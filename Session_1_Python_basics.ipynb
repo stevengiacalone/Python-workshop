{
  "nbformat": 4,
  "nbformat_minor": 0,
  "metadata": {
    "colab": {
      "provenance": [],
      "toc_visible": true,
      "include_colab_link": true
    },
    "kernelspec": {
      "name": "python3",
      "display_name": "Python 3"
    }
  },
  "cells": [
    {
      "cell_type": "markdown",
      "metadata": {
        "id": "view-in-github",
        "colab_type": "text"
      },
      "source": [
        "<a href=\"https://colab.research.google.com/github/stevengiacalone/Python-workshop/blob/main/Session_1_Python_basics.ipynb\" target=\"_parent\"><img src=\"https://colab.research.google.com/assets/colab-badge.svg\" alt=\"Open In Colab\"/></a>"
      ]
    },
    {
      "cell_type": "markdown",
      "metadata": {
        "id": "JbVT11Y8CbAu"
      },
      "source": [
        "# Welcome"
      ]
    },
    {
      "cell_type": "markdown",
      "metadata": {
        "id": "kw1B2R_WCU7X"
      },
      "source": [
        "Welcome to the first session of the Python workshop! In this practical, we will learn about the programming language Python as well as NumPy, a library that containts tons of useful tools and pre-defined functions.\n",
        "\n",
        "Credit: Much of this notebook was written by Mathieu Blondel. You can read more about the material here on the official Python website (https://docs.python.org/3/tutorial/) or this useful W3schools website (https://www.w3schools.com/python/default.asp)."
      ]
    },
    {
      "cell_type": "markdown",
      "metadata": {
        "id": "YV4sYCn8EPwb"
      },
      "source": [
        "# Notebooks"
      ]
    },
    {
      "cell_type": "markdown",
      "metadata": {
        "id": "2HuuwOcQEYQI"
      },
      "source": [
        "Throughout this workshop, we'll be working in Jupyter notebooks through the Google colab platform. Notebooks are composed of \"cells\" that can contain chunks of code, text, or images. Through colab, we use CPUs and GPUs on Google's servers to run our code, so you should be able to execute all of the cells in the workshop even if your computer is not very powerful. However, access to colab requires an internet connection."
      ]
    },
    {
      "cell_type": "markdown",
      "metadata": {
        "id": "t0XmMkPuGGOs"
      },
      "source": [
        "Let's run our first cell of code. Below, we define a string called hello_world. To run the cell, click on the \"play\" button on the left-hand side. Alternatively, you can press ctrl+enter, cmd+enter, or shift+enter when the cell is selected (my preferred method)."
      ]
    },
    {
      "cell_type": "code",
      "metadata": {
        "id": "qeGAvLq1ALJ4"
      },
      "source": [
        "hello_world = \"hello world\""
      ],
      "execution_count": null,
      "outputs": []
    },
    {
      "cell_type": "markdown",
      "metadata": {
        "id": "NvdYaBgHHdbw"
      },
      "source": [
        "Variables that you defined in one cell can later be used in other cells, so you don't need to re-define things every time. Let's print the string we defined in the previous cell."
      ]
    },
    {
      "cell_type": "code",
      "metadata": {
        "id": "s1kp5Zv0JBSx",
        "colab": {
          "base_uri": "https://localhost:8080/"
        },
        "outputId": "366d19ee-ad3f-497f-e2b8-4f4f84902a05"
      },
      "source": [
        "print(hello_world)"
      ],
      "execution_count": null,
      "outputs": [
        {
          "output_type": "stream",
          "name": "stdout",
          "text": [
            "hello world\n"
          ]
        }
      ]
    },
    {
      "cell_type": "markdown",
      "metadata": {
        "id": "HvXs_KaoRWQ9"
      },
      "source": [
        "To add a new cell, click on this cell then click on \"+ Code\" button in the top left or above/below an existing cell when hovering over it. You can delete cells by left-clicking on them and selecting the \"Delete cell\" option."
      ]
    },
    {
      "cell_type": "markdown",
      "metadata": {
        "id": "qyLSwlxnJqXX"
      },
      "source": [
        "# Python"
      ]
    },
    {
      "cell_type": "markdown",
      "metadata": {
        "id": "3ltwm91eJyQM"
      },
      "source": [
        "Python is one of the most popular programming languages out there, both in academia and in industry. It is essential to learn this language for anyone interested in research and data science. In this session, we will review Python basics."
      ]
    },
    {
      "cell_type": "markdown",
      "metadata": {
        "id": "3EKvP6jiMZ9H"
      },
      "source": [
        "## Arithmetic operations"
      ]
    },
    {
      "cell_type": "markdown",
      "metadata": {
        "id": "DDjs0-7YQ80h"
      },
      "source": [
        "Python supports the usual arithmetic operators: + (addition), * (multiplication), / (division), ** (power), // (integer division). Arithmetic operations follow the standard PEMDAS rules. Let's try a few below."
      ]
    },
    {
      "cell_type": "code",
      "source": [
        "# side note: this is a comment - you can write comments (which will be\n",
        "# ignored when you execute the code) by putting \"#\" at the start of the line\n",
        "\n",
        "# addition\n",
        "sum = 1 + 1\n",
        "print(\"sum =\", sum)\n",
        "\n",
        "# subtraction\n",
        "difference = 4 - 1\n",
        "print(\"difference =\", difference)\n",
        "\n",
        "# multiplication\n",
        "product = 5 * 2\n",
        "print(\"product =\", product)\n",
        "\n",
        "# division\n",
        "quotient = 20 / 5\n",
        "print(\"quotient =\", quotient)\n",
        "\n",
        "# integer division\n",
        "int_quotient = 20 // 5\n",
        "print(\"integer quotient =\", int_quotient)\n",
        "\n",
        "# power\n",
        "power = 2**5\n",
        "print(\"power =\", power)\n",
        "\n",
        "# put it all together\n",
        "x = ((10*5) - 30)**2 / 10\n",
        "print(\"x =\", x)"
      ],
      "metadata": {
        "colab": {
          "base_uri": "https://localhost:8080/"
        },
        "id": "tuBZqa5Y3E-b",
        "outputId": "a92b9303-a918-448e-ad92-78a1d4fa85e0"
      },
      "execution_count": null,
      "outputs": [
        {
          "output_type": "stream",
          "name": "stdout",
          "text": [
            "sum = 2\n",
            "difference = 3\n",
            "product = 10\n",
            "quotient = 4.0\n",
            "integer quotient = 4\n",
            "power = 32\n",
            "x = 40.0\n"
          ]
        }
      ]
    },
    {
      "cell_type": "markdown",
      "source": [
        "You might have noticed that some of the outputs are integers, while others have decimals. This brings us to our next subject of data types."
      ],
      "metadata": {
        "id": "JfsJrynA6Pj0"
      }
    },
    {
      "cell_type": "markdown",
      "source": [
        "## Data types"
      ],
      "metadata": {
        "id": "h0cP4hck6auE"
      }
    },
    {
      "cell_type": "markdown",
      "source": [
        "Python supports a number of different data types. Here we'll discuss a few of the more commonly used ones.\n",
        "\n",
        "- int: A normal integer (i.e., no decimal places)\n",
        "- float: A number with precision to at least one decimal place\n",
        "- str: A string, which can be a sequence of any characters in quotes\n",
        "- bool: A boolean, which can be True or False\n",
        "- list: A sequence of elements that can be modified (more on these later)\n",
        "- tuple: Like a list, but cannot be modified and takes up less memory\n",
        "- range: A list of integers counting up from 1 - useful for loops (more on these later)\n",
        "- dict: A dictionary, an ordered collection of key-value pairs (more on these later).\n",
        "\n",
        "You can check the type of a variable using type(var). Let's explore below."
      ],
      "metadata": {
        "id": "GLKAmDYX7Gq0"
      }
    },
    {
      "cell_type": "code",
      "source": [
        "this_int = 1\n",
        "print(\"this_int is a \", type(this_int))\n",
        "\n",
        "this_float = 1.0\n",
        "print(\"this_float is a \", type(this_float))\n",
        "\n",
        "this_str = \"abc123\"\n",
        "print(\"this_str is a \", type(this_str))\n",
        "\n",
        "this_bool = True\n",
        "print(\"this_bool is a \", type(this_bool))\n",
        "\n",
        "# lists are defined with square brackets\n",
        "this_list = [1, 3, 5, 7, 9]\n",
        "print(\"this_list is a \", type(this_list))\n",
        "\n",
        "# tuples are defined with round brackets\n",
        "this_tuple = (1, 3, 5, 7, 9)\n",
        "print(\"this_tuple is a \", type(this_tuple))\n",
        "\n",
        "# ranges are defined with the syntax range(N)\n",
        "this_range = range(5)\n",
        "print(\"this_range is a \", type(this_range))\n",
        "\n",
        "# dicts are defined with curly brackets and require both a keyword and a value\n",
        "this_dict = {\"name\": \"john\",\n",
        "             \"age\": 30,\n",
        "             \"height\": 180}\n",
        "print(\"this_dict is a \", type(this_dict))"
      ],
      "metadata": {
        "colab": {
          "base_uri": "https://localhost:8080/"
        },
        "id": "4F-mb2VW6aGl",
        "outputId": "d884db6f-ad0b-488d-be7d-7493afd3f1dd"
      },
      "execution_count": null,
      "outputs": [
        {
          "output_type": "stream",
          "name": "stdout",
          "text": [
            "this_int is a  <class 'int'>\n",
            "this_float is a  <class 'float'>\n",
            "this_str is a  <class 'str'>\n",
            "this_bool is a  <class 'bool'>\n",
            "this_list is a  <class 'list'>\n",
            "this_tuple is a  <class 'tuple'>\n",
            "this_range is a  <class 'range'>\n",
            "this_dict is a  <class 'dict'>\n"
          ]
        }
      ]
    },
    {
      "cell_type": "markdown",
      "source": [
        "You can also change the type of a variable using pre-defined functions like int(), float(), and str(). Let's change the types of a few of the variables defined above."
      ],
      "metadata": {
        "id": "INiUAccdJsnr"
      }
    },
    {
      "cell_type": "code",
      "source": [
        "this_int_to_str = str(this_int)\n",
        "print(this_int, \"->\", this_int_to_str)\n",
        "print(\"this_int_to_str is now a \", type(this_int_to_str))\n",
        "\n",
        "this_int_to_float = float(this_int)\n",
        "print(this_int, \"->\", this_int_to_float)\n",
        "print(\"this_int_to_float is now a \", type(this_int_to_float))\n",
        "\n",
        "this_float_to_int = int(this_float)\n",
        "print(this_float, \"->\", this_float_to_int)\n",
        "print(\"this_float_to_int is now a \", type(this_float_to_int))"
      ],
      "metadata": {
        "colab": {
          "base_uri": "https://localhost:8080/"
        },
        "id": "wX3gFBLlJsEb",
        "outputId": "699ac738-f98f-4f0f-a459-ca05805bbeb0"
      },
      "execution_count": null,
      "outputs": [
        {
          "output_type": "stream",
          "name": "stdout",
          "text": [
            "1 -> 1\n",
            "this_int_to_str is now a  <class 'str'>\n",
            "1 -> 1.0\n",
            "this_int_to_float is now a  <class 'float'>\n",
            "1.0 -> 1\n",
            "this_float_to_int is now a  <class 'int'>\n"
          ]
        }
      ]
    },
    {
      "cell_type": "markdown",
      "source": [
        "Note that this will not work with everything. For example, if you want to change a string to a float or int, the string can only contain numbers. Similarly, if you try to change a float with multiple decimal places to an int, it will simply cut off everything after the decimal."
      ],
      "metadata": {
        "id": "69PquQovK7Ck"
      }
    },
    {
      "cell_type": "code",
      "source": [
        "# this will return an error\n",
        "int(this_str)"
      ],
      "metadata": {
        "colab": {
          "base_uri": "https://localhost:8080/",
          "height": 158
        },
        "id": "wb8CrktgK6u8",
        "outputId": "ffb4e81f-d566-4cee-b3fa-108a087d4b8e"
      },
      "execution_count": null,
      "outputs": [
        {
          "output_type": "error",
          "ename": "ValueError",
          "evalue": "invalid literal for int() with base 10: 'abc123'",
          "traceback": [
            "\u001b[0;31m---------------------------------------------------------------------------\u001b[0m",
            "\u001b[0;31mValueError\u001b[0m                                Traceback (most recent call last)",
            "\u001b[0;32m<ipython-input-19-4f808ed7c2ff>\u001b[0m in \u001b[0;36m<cell line: 2>\u001b[0;34m()\u001b[0m\n\u001b[1;32m      1\u001b[0m \u001b[0;31m# this will return an error\u001b[0m\u001b[0;34m\u001b[0m\u001b[0;34m\u001b[0m\u001b[0m\n\u001b[0;32m----> 2\u001b[0;31m \u001b[0mint\u001b[0m\u001b[0;34m(\u001b[0m\u001b[0mthis_str\u001b[0m\u001b[0;34m)\u001b[0m\u001b[0;34m\u001b[0m\u001b[0;34m\u001b[0m\u001b[0m\n\u001b[0m",
            "\u001b[0;31mValueError\u001b[0m: invalid literal for int() with base 10: 'abc123'"
          ]
        }
      ]
    },
    {
      "cell_type": "code",
      "source": [
        "# this will work, but you lose some information\n",
        "test_float = 1.234\n",
        "test_float_to_int = int(test_float)\n",
        "print(test_float_to_int)"
      ],
      "metadata": {
        "colab": {
          "base_uri": "https://localhost:8080/"
        },
        "id": "d3RtGYVGLTCA",
        "outputId": "91ba7a25-be4d-4d98-e3da-471a12f9f656"
      },
      "execution_count": null,
      "outputs": [
        {
          "output_type": "stream",
          "name": "stdout",
          "text": [
            "1\n"
          ]
        }
      ]
    },
    {
      "cell_type": "markdown",
      "metadata": {
        "id": "UhcbBQUiStHG"
      },
      "source": [
        "## Lists"
      ]
    },
    {
      "cell_type": "markdown",
      "metadata": {
        "id": "RkPn1IjNTCxA"
      },
      "source": [
        "Lists are a container type for ordered sequences of elements. Lists can be initialized empty"
      ]
    },
    {
      "cell_type": "code",
      "metadata": {
        "id": "OrnV1ySAPtHp"
      },
      "source": [
        "my_list = []"
      ],
      "execution_count": null,
      "outputs": []
    },
    {
      "cell_type": "markdown",
      "metadata": {
        "id": "OwRqyYI9XnPK"
      },
      "source": [
        "or with some initial elements"
      ]
    },
    {
      "cell_type": "code",
      "metadata": {
        "id": "Uq5YTJ1JXpOX"
      },
      "source": [
        "my_list = [1, 2, 3]"
      ],
      "execution_count": null,
      "outputs": []
    },
    {
      "cell_type": "markdown",
      "metadata": {
        "id": "Hk2WmojJXyyz"
      },
      "source": [
        "Lists have a dynamic size and elements can be added (appended) to them"
      ]
    },
    {
      "cell_type": "code",
      "metadata": {
        "id": "QFTNqiYiXxAh",
        "colab": {
          "base_uri": "https://localhost:8080/"
        },
        "outputId": "0205e256-5868-436a-df23-ae592b4083ca"
      },
      "source": [
        "my_list.append(4)\n",
        "my_list"
      ],
      "execution_count": null,
      "outputs": [
        {
          "output_type": "execute_result",
          "data": {
            "text/plain": [
              "[1, 2, 3, 4]"
            ]
          },
          "metadata": {},
          "execution_count": 23
        }
      ]
    },
    {
      "cell_type": "markdown",
      "metadata": {
        "id": "IUnJuqQ2Yhzw"
      },
      "source": [
        "We can access individual elements of a list (indexing starts from 0)"
      ]
    },
    {
      "cell_type": "code",
      "metadata": {
        "id": "pyFxyZPVYpG_",
        "colab": {
          "base_uri": "https://localhost:8080/"
        },
        "outputId": "1b5f9da5-666a-4ef1-8aeb-2a7fb2c57442"
      },
      "source": [
        "my_list[2]"
      ],
      "execution_count": null,
      "outputs": [
        {
          "output_type": "execute_result",
          "data": {
            "text/plain": [
              "3"
            ]
          },
          "metadata": {},
          "execution_count": 24
        }
      ]
    },
    {
      "cell_type": "markdown",
      "metadata": {
        "id": "hPMrIDYsdgMP"
      },
      "source": [
        "We can access \"slices\" of a list using `my_list[i:j]` where `i` is the start of the slice (again, indexing starts from 0) and `j` the end of the slice. This will return the elements between index `i` and `j-1`, inclusive. For instance:"
      ]
    },
    {
      "cell_type": "code",
      "metadata": {
        "id": "Ichf9p0gd7tJ",
        "colab": {
          "base_uri": "https://localhost:8080/"
        },
        "outputId": "7d71febc-949d-4849-8bd8-728110ccc499"
      },
      "source": [
        "my_list[1:3]"
      ],
      "execution_count": null,
      "outputs": [
        {
          "output_type": "execute_result",
          "data": {
            "text/plain": [
              "[2, 3]"
            ]
          },
          "metadata": {},
          "execution_count": 25
        }
      ]
    },
    {
      "cell_type": "markdown",
      "metadata": {
        "id": "KMbzH4tzQ9rI"
      },
      "source": [
        "Omitting the second index means that the slice shoud run until the end of the list"
      ]
    },
    {
      "cell_type": "code",
      "metadata": {
        "id": "O7wCthKnREKV",
        "colab": {
          "base_uri": "https://localhost:8080/"
        },
        "outputId": "1be45e89-0582-43f4-b469-5a12e59b6eb2"
      },
      "source": [
        "my_list[1:]"
      ],
      "execution_count": null,
      "outputs": [
        {
          "output_type": "execute_result",
          "data": {
            "text/plain": [
              "[2, 3, 4]"
            ]
          },
          "metadata": {},
          "execution_count": 26
        }
      ]
    },
    {
      "cell_type": "markdown",
      "metadata": {
        "id": "C5Aeu7PUebrK"
      },
      "source": [
        "We can check if an element is in the list using `in`"
      ]
    },
    {
      "cell_type": "code",
      "metadata": {
        "id": "a_P5NCi-efvb",
        "colab": {
          "base_uri": "https://localhost:8080/"
        },
        "outputId": "5ff365f8-6d3a-4139-a2d0-615147cbdc92"
      },
      "source": [
        "5 in my_list"
      ],
      "execution_count": null,
      "outputs": [
        {
          "output_type": "execute_result",
          "data": {
            "text/plain": [
              "False"
            ]
          },
          "metadata": {},
          "execution_count": 27
        }
      ]
    },
    {
      "cell_type": "markdown",
      "metadata": {
        "id": "LypIsP5gkl10"
      },
      "source": [
        "The length of a list can be obtained using the `len` function"
      ]
    },
    {
      "cell_type": "code",
      "metadata": {
        "id": "ac0FMsaKkrWc",
        "colab": {
          "base_uri": "https://localhost:8080/"
        },
        "outputId": "843319da-68af-4c58-c1df-086b867bad07"
      },
      "source": [
        "len(my_list)"
      ],
      "execution_count": null,
      "outputs": [
        {
          "output_type": "execute_result",
          "data": {
            "text/plain": [
              "4"
            ]
          },
          "metadata": {},
          "execution_count": 28
        }
      ]
    },
    {
      "cell_type": "markdown",
      "source": [
        "Lastly, elements of a list can be removed using the remove() method or the del keyword."
      ],
      "metadata": {
        "id": "FsnfosrpMPau"
      }
    },
    {
      "cell_type": "code",
      "source": [
        "# use my_list.remove(x) to remove an element of the list with a specific value\n",
        "my_list.remove(4)\n",
        "print(my_list)"
      ],
      "metadata": {
        "colab": {
          "base_uri": "https://localhost:8080/"
        },
        "id": "jsPeB9viMk3j",
        "outputId": "7ae51aee-da20-48af-8773-068637bf5ebc"
      },
      "execution_count": null,
      "outputs": [
        {
          "output_type": "stream",
          "name": "stdout",
          "text": [
            "[1, 2, 3]\n"
          ]
        }
      ]
    },
    {
      "cell_type": "code",
      "source": [
        "# use del mylist[idx] to remove a an element by its index\n",
        "del my_list[-1] # the index \"-1\" indicates the last element of the list\n",
        "print(my_list)"
      ],
      "metadata": {
        "colab": {
          "base_uri": "https://localhost:8080/"
        },
        "id": "81jmVw_PM0nA",
        "outputId": "da70ce64-bcf6-4c68-ae98-7193901636a5"
      },
      "execution_count": null,
      "outputs": [
        {
          "output_type": "stream",
          "name": "stdout",
          "text": [
            "[1, 2]\n"
          ]
        }
      ]
    },
    {
      "cell_type": "markdown",
      "metadata": {
        "id": "1c3RLStf7G2I"
      },
      "source": [
        "## Strings"
      ]
    },
    {
      "cell_type": "markdown",
      "metadata": {
        "id": "Jm6hZhgz7KhI"
      },
      "source": [
        "Strings are used to store text. They can be defined using either single quotes or double quotes."
      ]
    },
    {
      "cell_type": "code",
      "metadata": {
        "id": "cCma6Oj_7T8n"
      },
      "source": [
        "string1 = \"some text\"\n",
        "string2 = 'some other text'"
      ],
      "execution_count": null,
      "outputs": []
    },
    {
      "cell_type": "markdown",
      "metadata": {
        "id": "Irr4xuWu7Znu"
      },
      "source": [
        "Strings behave similarly to lists. As such we can access individual elements in exactly the same way"
      ]
    },
    {
      "cell_type": "code",
      "metadata": {
        "id": "26_POhLO7iM3",
        "colab": {
          "base_uri": "https://localhost:8080/",
          "height": 36
        },
        "outputId": "dfcdbc95-5f01-4b54-b031-a3fa6dabe55f"
      },
      "source": [
        "string1[3]"
      ],
      "execution_count": null,
      "outputs": [
        {
          "output_type": "execute_result",
          "data": {
            "text/plain": [
              "'e'"
            ],
            "application/vnd.google.colaboratory.intrinsic+json": {
              "type": "string"
            }
          },
          "metadata": {},
          "execution_count": 32
        }
      ]
    },
    {
      "cell_type": "markdown",
      "metadata": {
        "id": "oA_UD0JV7oPw"
      },
      "source": [
        "and similarly for slices"
      ]
    },
    {
      "cell_type": "code",
      "metadata": {
        "id": "dcZFcLqQ7qCe",
        "colab": {
          "base_uri": "https://localhost:8080/",
          "height": 36
        },
        "outputId": "7bb27a9c-bee3-46c5-8b74-5821d54d0499"
      },
      "source": [
        "string1[5:]"
      ],
      "execution_count": null,
      "outputs": [
        {
          "output_type": "execute_result",
          "data": {
            "text/plain": [
              "'text'"
            ],
            "application/vnd.google.colaboratory.intrinsic+json": {
              "type": "string"
            }
          },
          "metadata": {},
          "execution_count": 33
        }
      ]
    },
    {
      "cell_type": "markdown",
      "metadata": {
        "id": "hOQ_CIiu76YG"
      },
      "source": [
        "String concatenation is performed using the `+` operator"
      ]
    },
    {
      "cell_type": "code",
      "metadata": {
        "id": "mxqNMKCY79_W",
        "colab": {
          "base_uri": "https://localhost:8080/",
          "height": 36
        },
        "outputId": "8c4afd44-0910-465a-a9e6-9056309acab6"
      },
      "source": [
        "string1 + \" \" + string2"
      ],
      "execution_count": null,
      "outputs": [
        {
          "output_type": "execute_result",
          "data": {
            "text/plain": [
              "'some text some other text'"
            ],
            "application/vnd.google.colaboratory.intrinsic+json": {
              "type": "string"
            }
          },
          "metadata": {},
          "execution_count": 34
        }
      ]
    },
    {
      "cell_type": "markdown",
      "source": [
        "## Dictionaries"
      ],
      "metadata": {
        "id": "Uo4buPGfDrlh"
      }
    },
    {
      "cell_type": "markdown",
      "source": [
        "Dictionaries are used to store key:value pairs, which can be useful if you want to store a bunch of attributes for one or more objects.\n",
        "\n",
        "Dictionaries can contain a single object."
      ],
      "metadata": {
        "id": "DOPad0nsFYsU"
      }
    },
    {
      "cell_type": "code",
      "source": [
        "this_dict = {\"name\": \"John\",\n",
        "             \"age\": 30,\n",
        "             \"height\": 180}\n",
        "this_dict"
      ],
      "metadata": {
        "colab": {
          "base_uri": "https://localhost:8080/"
        },
        "id": "iinwbdM_Du_R",
        "outputId": "5b31060c-e99a-4d38-baff-d77c32485464"
      },
      "execution_count": null,
      "outputs": [
        {
          "output_type": "execute_result",
          "data": {
            "text/plain": [
              "{'name': 'John', 'age': 30, 'height': 180}"
            ]
          },
          "metadata": {},
          "execution_count": 35
        }
      ]
    },
    {
      "cell_type": "code",
      "source": [
        "this_dict[\"name\"]"
      ],
      "metadata": {
        "colab": {
          "base_uri": "https://localhost:8080/",
          "height": 36
        },
        "id": "Wz4TvTqCEBlK",
        "outputId": "80e21083-23bc-4fa3-952a-807685e40450"
      },
      "execution_count": null,
      "outputs": [
        {
          "output_type": "execute_result",
          "data": {
            "text/plain": [
              "'John'"
            ],
            "application/vnd.google.colaboratory.intrinsic+json": {
              "type": "string"
            }
          },
          "metadata": {},
          "execution_count": 36
        }
      ]
    },
    {
      "cell_type": "markdown",
      "source": [
        "Or it can contain lists of several objects."
      ],
      "metadata": {
        "id": "3FjNM8A6FpeP"
      }
    },
    {
      "cell_type": "code",
      "source": [
        "this_dict = {\"name\": [\"John\", \"Amanda\", \"Jose\"],\n",
        "             \"age\": [30, 35, 23],\n",
        "             \"height\": [180, 160, 200]}\n",
        "this_dict"
      ],
      "metadata": {
        "colab": {
          "base_uri": "https://localhost:8080/"
        },
        "id": "iRFbPxlwEqL-",
        "outputId": "95d6c14d-35dc-43c8-b5aa-19b52b0d4d4c"
      },
      "execution_count": null,
      "outputs": [
        {
          "output_type": "execute_result",
          "data": {
            "text/plain": [
              "{'name': ['John', 'Amanda', 'Jose'],\n",
              " 'age': [30, 35, 23],\n",
              " 'height': [180, 160, 200]}"
            ]
          },
          "metadata": {},
          "execution_count": 37
        }
      ]
    },
    {
      "cell_type": "code",
      "source": [
        "this_dict[\"age\"]"
      ],
      "metadata": {
        "colab": {
          "base_uri": "https://localhost:8080/"
        },
        "id": "pkVL2QJEE6jp",
        "outputId": "54f78cb6-7308-4f4a-ef22-faf59323271e"
      },
      "execution_count": null,
      "outputs": [
        {
          "output_type": "execute_result",
          "data": {
            "text/plain": [
              "[30, 35, 23]"
            ]
          },
          "metadata": {},
          "execution_count": 38
        }
      ]
    },
    {
      "cell_type": "markdown",
      "source": [
        "Honestly, dictionaries are not used very often on their own. However, when we learn about databases later, you'll be glad you learned about them!"
      ],
      "metadata": {
        "id": "TK3elG72HidQ"
      }
    },
    {
      "cell_type": "markdown",
      "metadata": {
        "id": "7Lox2GZCMdIB"
      },
      "source": [
        "## Conditionals"
      ]
    },
    {
      "cell_type": "markdown",
      "metadata": {
        "id": "-gXEAWFZfDTT"
      },
      "source": [
        "As their name indicates, conditionals are a way to execute code depending on whether a condition is True or False. As in other languages, Python supports `if` and `else` but `else if` is contracted into `elif`, as the example below demonstrates."
      ]
    },
    {
      "cell_type": "code",
      "metadata": {
        "id": "xC_DMZjofoYZ",
        "colab": {
          "base_uri": "https://localhost:8080/"
        },
        "outputId": "12a38ffc-f658-42b1-e3cd-451189b3f9fd"
      },
      "source": [
        "my_variable = 5\n",
        "if my_variable < 0:\n",
        "    print(\"negative\")\n",
        "elif my_variable == 0:\n",
        "    print(\"null\")\n",
        "else: # my_variable > 0\n",
        "    print(\"positive\")"
      ],
      "execution_count": null,
      "outputs": [
        {
          "output_type": "stream",
          "name": "stdout",
          "text": [
            "positive\n"
          ]
        }
      ]
    },
    {
      "cell_type": "markdown",
      "metadata": {
        "id": "Ag0SUokSf9jl"
      },
      "source": [
        "Here `<` and `>` are the strict `less` and `greater than` operators, while `==` is the equality operator (not to be confused with `=`, the variable assignment operator). The operators `<=` and `>=` can be used for less than or equal and greater than or equal comparisons."
      ]
    },
    {
      "cell_type": "markdown",
      "metadata": {
        "id": "qTkQ2F_jy8wz"
      },
      "source": [
        "Contrary to other languages, blocks of code are delimited using indentation. Here, we use 4-space indentation."
      ]
    },
    {
      "cell_type": "markdown",
      "metadata": {
        "id": "clWaFCzBMfkv"
      },
      "source": [
        "## Loops"
      ]
    },
    {
      "cell_type": "markdown",
      "metadata": {
        "id": "_A5doqhTivWe"
      },
      "source": [
        "Loops are a way to execute a block of code multiple times. There are two main types of loops: while loops and for loops."
      ]
    },
    {
      "cell_type": "markdown",
      "metadata": {
        "id": "YN8lwTxQkGEa"
      },
      "source": [
        "While loop"
      ]
    },
    {
      "cell_type": "code",
      "metadata": {
        "id": "7-QXGqgOjsr_",
        "colab": {
          "base_uri": "https://localhost:8080/"
        },
        "outputId": "cd5bb57a-5a9f-4e9c-a1be-88526dd827f6"
      },
      "source": [
        "i = 0\n",
        "my_list = [1,2,3,4,5]\n",
        "while i < len(my_list):\n",
        "    print(\"i =\", i, \", my_list[i] =\", my_list[i])\n",
        "    i += 1 # equivalent to i = i + 1"
      ],
      "execution_count": null,
      "outputs": [
        {
          "output_type": "stream",
          "name": "stdout",
          "text": [
            "i = 0 , my_list[i] = 1\n",
            "i = 1 , my_list[i] = 2\n",
            "i = 2 , my_list[i] = 3\n",
            "i = 3 , my_list[i] = 4\n",
            "i = 4 , my_list[i] = 5\n"
          ]
        }
      ]
    },
    {
      "cell_type": "markdown",
      "metadata": {
        "id": "8mEI_ocfkSvZ"
      },
      "source": [
        "For loop"
      ]
    },
    {
      "cell_type": "code",
      "metadata": {
        "id": "2QObx5mckMcI",
        "colab": {
          "base_uri": "https://localhost:8080/"
        },
        "outputId": "3aafe61e-5ced-4b4d-ab48-b79604f58309"
      },
      "source": [
        "my_list = [1,2,3,4,5]\n",
        "for i in range(len(my_list)):\n",
        "    print(\"i =\", i, \", my_list[i] =\", my_list[i])"
      ],
      "execution_count": null,
      "outputs": [
        {
          "output_type": "stream",
          "name": "stdout",
          "text": [
            "i = 0 , my_list[i] = 1\n",
            "i = 1 , my_list[i] = 2\n",
            "i = 2 , my_list[i] = 3\n",
            "i = 3 , my_list[i] = 4\n",
            "i = 4 , my_list[i] = 5\n"
          ]
        }
      ]
    },
    {
      "cell_type": "markdown",
      "metadata": {
        "id": "XO6qqppikZvm"
      },
      "source": [
        "If the goal is simply to iterate over a list, we can do so directly as follows"
      ]
    },
    {
      "cell_type": "code",
      "metadata": {
        "id": "PjFKzN6zkeJ7",
        "colab": {
          "base_uri": "https://localhost:8080/"
        },
        "outputId": "d9bb410d-fc67-4a93-a3d8-9ce0a4ecffdd"
      },
      "source": [
        "my_list = [1,2,3,4,5]\n",
        "for element in my_list:\n",
        "    print(\"my_list[i] =\", element)"
      ],
      "execution_count": null,
      "outputs": [
        {
          "output_type": "stream",
          "name": "stdout",
          "text": [
            "my_list[i] = 1\n",
            "my_list[i] = 2\n",
            "my_list[i] = 3\n",
            "my_list[i] = 4\n",
            "my_list[i] = 5\n"
          ]
        }
      ]
    },
    {
      "cell_type": "markdown",
      "source": [
        "The `break` keyword breaks a loop at the current line. The `continue` keyword stops the current iteration at the current line and continues to the next iteratio."
      ],
      "metadata": {
        "id": "bHXDoNZjVP37"
      }
    },
    {
      "cell_type": "code",
      "source": [
        "my_list = [1,2,3,4,5]\n",
        "for i in range(len(my_list)):\n",
        "    if i > 2:\n",
        "        # breaks the loop after the third iteration\n",
        "        break\n",
        "    print(\"i =\", i, \", my_list[i] =\", my_list[i])"
      ],
      "metadata": {
        "colab": {
          "base_uri": "https://localhost:8080/"
        },
        "id": "YuDCPvU8Vvip",
        "outputId": "f8da2ec7-fb47-4d7b-a2e3-4ee407210f07"
      },
      "execution_count": null,
      "outputs": [
        {
          "output_type": "stream",
          "name": "stdout",
          "text": [
            "i = 0 , my_list[i] = 1\n",
            "i = 1 , my_list[i] = 2\n",
            "i = 2 , my_list[i] = 3\n"
          ]
        }
      ]
    },
    {
      "cell_type": "code",
      "source": [
        "my_list = [1,2,3,4,5]\n",
        "for i in range(len(my_list)):\n",
        "    if i == 2:\n",
        "        # skip this iteration and continue to the next if i = 2\n",
        "        continue\n",
        "    print(\"i =\", i, \", my_list[i] =\", my_list[i])"
      ],
      "metadata": {
        "colab": {
          "base_uri": "https://localhost:8080/"
        },
        "id": "5WjAOSn0WhbK",
        "outputId": "1d59d983-6968-4c49-aee5-cae7d9d463ee"
      },
      "execution_count": null,
      "outputs": [
        {
          "output_type": "stream",
          "name": "stdout",
          "text": [
            "i = 0 , my_list[i] = 1\n",
            "i = 1 , my_list[i] = 2\n",
            "i = 3 , my_list[i] = 4\n",
            "i = 4 , my_list[i] = 5\n"
          ]
        }
      ]
    },
    {
      "cell_type": "markdown",
      "metadata": {
        "id": "Cck4zwYrex02"
      },
      "source": [
        "## Functions"
      ]
    },
    {
      "cell_type": "markdown",
      "metadata": {
        "id": "n1PbIf_ohxFO"
      },
      "source": [
        "To make code more readable and efficient, it is common to separate the code into different blocks, responsible for performing precise actions: functions. A function takes some inputs and processes them to return some outputs."
      ]
    },
    {
      "cell_type": "code",
      "metadata": {
        "id": "cImA09gOhRmx",
        "colab": {
          "base_uri": "https://localhost:8080/"
        },
        "outputId": "23f76e5a-9107-49bb-8361-cd7c4d30676e"
      },
      "source": [
        "def square(x):\n",
        "  return x ** 2\n",
        "\n",
        "def multiply(a, b):\n",
        "  return a * b\n",
        "\n",
        "# Functions can be combined\n",
        "this_product = multiply(a=2, b=3)\n",
        "print(this_product)\n",
        "this_square = square(x=this_product)\n",
        "print(this_square)"
      ],
      "execution_count": null,
      "outputs": [
        {
          "output_type": "stream",
          "name": "stdout",
          "text": [
            "6\n",
            "36\n"
          ]
        }
      ]
    },
    {
      "cell_type": "markdown",
      "metadata": {
        "id": "LkpwbQEVMys2"
      },
      "source": [
        "## Exercises\n",
        "\n",
        "Let's try coding a few things up ourselves."
      ]
    },
    {
      "cell_type": "markdown",
      "metadata": {
        "id": "ASpVhol9ZXI0"
      },
      "source": [
        "**Exercise 1.** Using a conditional, write the [relu](https://en.wikipedia.org/wiki/Rectifier_(neural_networks)) function defined as follows\n",
        "\n",
        "$\\text{relu}(x) = \\left\\{\n",
        "   \\begin{array}{rl}\n",
        "     x, & \\text{if }  x \\ge 0 \\\\\n",
        "     0, & \\text{otherwise }.\n",
        "   \\end{array}\\right.$"
      ]
    },
    {
      "cell_type": "code",
      "metadata": {
        "id": "jlgyu65SaUvr"
      },
      "source": [
        "def relu(x):\n",
        "  # Write your function here\n",
        "  return\n",
        "\n",
        "relu(-3)"
      ],
      "execution_count": null,
      "outputs": []
    },
    {
      "cell_type": "markdown",
      "metadata": {
        "id": "Y3so0ceoakIw"
      },
      "source": [
        "**Exercise 2.** Using a foor loop, write a function that computes the [Euclidean norm](https://en.wikipedia.org/wiki/Norm_(mathematics)#Euclidean_norm) of a vector, represented as a list."
      ]
    },
    {
      "cell_type": "code",
      "metadata": {
        "id": "-IH-BD41bI1u"
      },
      "source": [
        "def euclidean_norm(vector):\n",
        "  # Write your function here\n",
        "  return\n",
        "\n",
        "my_vector = [0.5, -1.2, 3.3, 4.5]\n",
        "# The result should be roughly 5.729746940310715\n",
        "euclidean_norm(my_vector)"
      ],
      "execution_count": null,
      "outputs": []
    },
    {
      "cell_type": "markdown",
      "metadata": {
        "id": "SEXIh_e9cW3S"
      },
      "source": [
        "**Exercise 3.** Using a for loop and a conditional, write a function that returns the maximum value in a vector."
      ]
    },
    {
      "cell_type": "code",
      "metadata": {
        "id": "zd9ntMq0cb2e"
      },
      "source": [
        "def vector_maximum(vector):\n",
        "  # Write your function here\n",
        "  return"
      ],
      "execution_count": null,
      "outputs": []
    },
    {
      "cell_type": "markdown",
      "source": [
        "**Exercise 4.** Using a for loop and conditional, write a function that prints the age and height of a given person from the following dictionary."
      ],
      "metadata": {
        "id": "qqLfxjR8F2p4"
      }
    },
    {
      "cell_type": "code",
      "source": [
        "this_dict = {\"name\": [\"John\", \"Amanda\", \"Jose\", \"Lisa\", \"Kareem\"],\n",
        "             \"age\": [30, 35, 23, 26, 40],\n",
        "             \"height\": [180, 160, 200, 170, 190]}\n",
        "\n",
        "def print_age_height():\n",
        "    # Write your function here\n",
        "    return"
      ],
      "metadata": {
        "id": "S-BTLhQbGHE1"
      },
      "execution_count": null,
      "outputs": []
    },
    {
      "cell_type": "markdown",
      "metadata": {
        "id": "jDxjvtEEM1vg"
      },
      "source": [
        "## Going further"
      ]
    },
    {
      "cell_type": "markdown",
      "metadata": {
        "id": "wRkmvzf-PdEp"
      },
      "source": [
        "Clearly, it is impossible to cover all the language features in this short introduction. To go further, we recommend the following resources:"
      ]
    },
    {
      "cell_type": "markdown",
      "metadata": {
        "id": "n8nbPoWclRlH"
      },
      "source": [
        "\n",
        "\n",
        "*   List of Python [tutorials](https://wiki.python.org/moin/BeginnersGuide/Programmers)\n",
        "* Four-hour [course](https://www.youtube.com/watch?v=rfscVS0vtbw) on Youtube\n",
        "\n"
      ]
    }
  ]
}