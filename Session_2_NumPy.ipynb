{
  "nbformat": 4,
  "nbformat_minor": 0,
  "metadata": {
    "colab": {
      "provenance": [],
      "toc_visible": true,
      "include_colab_link": true
    },
    "kernelspec": {
      "name": "python3",
      "display_name": "Python 3"
    }
  },
  "cells": [
    {
      "cell_type": "markdown",
      "metadata": {
        "id": "view-in-github",
        "colab_type": "text"
      },
      "source": [
        "<a href=\"https://colab.research.google.com/github/stevengiacalone/Python-workshop/blob/main/Session_2_NumPy.ipynb\" target=\"_parent\"><img src=\"https://colab.research.google.com/assets/colab-badge.svg\" alt=\"Open In Colab\"/></a>"
      ]
    },
    {
      "cell_type": "markdown",
      "metadata": {
        "id": "6X4WJo3iM6m9"
      },
      "source": [
        "# NumPy"
      ]
    },
    {
      "cell_type": "markdown",
      "metadata": {
        "id": "_H3bNbLloXCY"
      },
      "source": [
        "Welcome to Session 2 of the Python workshop. Today, we'll be biscussing NumPy, a popular library for storing arrays of numbers and performing computations on them. Not only this enables to write often more succint code, this also makes the code faster, since most NumPy routines are implemented in C for speed.\n",
        "\n",
        "Before we dive in, some attributions:\n",
        "- Parts of this notebook are taken or adapted from tutorials by Mathieu Blondel and Fraida Fund.\n",
        "- Parts of this notebook are adapted from a tutorial from CS231N at Stanford University, which is shared under the MIT license.\n",
        "- Parts of this notebook are adapted from Jake VanderPlas’s Whirlwind Tour of Python, which is shared under the Creative Commons CC0 Public Domain Dedication license.\n",
        "- The visualizations in this notebook are from A Visual Intro to NumPy by Jay Alammar, which is licensed under a Creative Commons Attribution-NonCommercial-ShareAlike 4.0 International License.\n",
        "- Parts of this notebook (and some images) about numpy broadcasting are adapted from Sebastian Raschka’s STATS451 materials.\n",
        "\n",
        "More info on NumPy can be found in the NumPy website: https://numpy.org/doc/stable/user/index.html#user"
      ]
    },
    {
      "cell_type": "markdown",
      "metadata": {
        "id": "M7tI3XLhqwSX"
      },
      "source": [
        "To use NumPy in your program, you need to import it as follows. This is the standard way to import all Python libraries and modules."
      ]
    },
    {
      "cell_type": "code",
      "metadata": {
        "id": "phSPPyfyq2gX"
      },
      "source": [
        "import numpy as np"
      ],
      "execution_count": 3,
      "outputs": []
    },
    {
      "cell_type": "markdown",
      "metadata": {
        "id": "9secCfFLNHEE"
      },
      "source": [
        "## Array creation\n",
        "\n"
      ]
    },
    {
      "cell_type": "markdown",
      "source": [
        "#### Creating arrays with arbitrary dimensions"
      ],
      "metadata": {
        "id": "rAbQvQ9DXch5"
      }
    },
    {
      "cell_type": "markdown",
      "metadata": {
        "id": "LSS2wEnkq97n"
      },
      "source": [
        "NumPy arrays can be created from Python lists"
      ]
    },
    {
      "cell_type": "code",
      "metadata": {
        "id": "Hfeg286yrLvJ",
        "colab": {
          "base_uri": "https://localhost:8080/"
        },
        "outputId": "6caa9a2a-3b18-4061-ea7f-34f9175060fc"
      },
      "source": [
        "my_array = np.array([1, 2, 3])\n",
        "my_array"
      ],
      "execution_count": 4,
      "outputs": [
        {
          "output_type": "execute_result",
          "data": {
            "text/plain": [
              "array([1, 2, 3])"
            ]
          },
          "metadata": {},
          "execution_count": 4
        }
      ]
    },
    {
      "cell_type": "markdown",
      "source": [
        "This creates the array we can see below:\n",
        "\n",
        "![](http://jalammar.github.io/images/numpy/create-numpy-array-1.png)"
      ],
      "metadata": {
        "id": "DHyM0UN4OEH4"
      }
    },
    {
      "cell_type": "markdown",
      "metadata": {
        "id": "Sy2EvrxFriAG"
      },
      "source": [
        "NumPy supports array of arbitrary dimension. For example, we can create two-dimensional arrays (e.g. to store a matrix) as follows"
      ]
    },
    {
      "cell_type": "code",
      "metadata": {
        "id": "wM-GYVMsrzNs",
        "colab": {
          "base_uri": "https://localhost:8080/"
        },
        "outputId": "ebf80c09-14ae-4115-f1ec-6a8372cb7b4d"
      },
      "source": [
        "my_2d_array = np.array([[1, 2], [3, 4]])\n",
        "my_2d_array"
      ],
      "execution_count": 5,
      "outputs": [
        {
          "output_type": "execute_result",
          "data": {
            "text/plain": [
              "array([[1, 2],\n",
              "       [3, 4]])"
            ]
          },
          "metadata": {},
          "execution_count": 5
        }
      ]
    },
    {
      "cell_type": "markdown",
      "source": [
        "Here is another visualization:\n",
        "\n",
        "![](http://jalammar.github.io/images/numpy/numpy-array-create-2d.png)"
      ],
      "metadata": {
        "id": "trziMSo7O1ZU"
      }
    },
    {
      "cell_type": "markdown",
      "source": [
        "Laslty, let's make a three-dimensional array."
      ],
      "metadata": {
        "id": "El0pnT5mPBBO"
      }
    },
    {
      "cell_type": "code",
      "source": [
        "my_3d_array = np.array([\n",
        "    [[1, 2], [3, 4]],\n",
        "    [[5, 6], [7, 8]]\n",
        "    ])\n",
        "my_3d_array"
      ],
      "metadata": {
        "colab": {
          "base_uri": "https://localhost:8080/"
        },
        "id": "IhPxDnXQPH-4",
        "outputId": "c4fd9655-836f-49b5-8058-5dcdb7d2be8b"
      },
      "execution_count": 8,
      "outputs": [
        {
          "output_type": "execute_result",
          "data": {
            "text/plain": [
              "array([[[1, 2],\n",
              "        [3, 4]],\n",
              "\n",
              "       [[5, 6],\n",
              "        [7, 8]]])"
            ]
          },
          "metadata": {},
          "execution_count": 8
        }
      ]
    },
    {
      "cell_type": "markdown",
      "source": [
        "![](http://jalammar.github.io/images/numpy/numpy-3d-array.png)"
      ],
      "metadata": {
        "id": "BmdPYe8WPP49"
      }
    },
    {
      "cell_type": "markdown",
      "source": [
        "You can check the shape of an array like so"
      ],
      "metadata": {
        "id": "gh497kDzUsyO"
      }
    },
    {
      "cell_type": "code",
      "source": [
        "print(my_array.shape)\n",
        "print(my_2d_array.shape)\n",
        "print(my_3d_array.shape)"
      ],
      "metadata": {
        "colab": {
          "base_uri": "https://localhost:8080/"
        },
        "id": "uam20dljVo1q",
        "outputId": "1f0faf50-ce4a-4c5a-b0fb-10c6c3a7c860"
      },
      "execution_count": 9,
      "outputs": [
        {
          "output_type": "stream",
          "name": "stdout",
          "text": [
            "(3,)\n",
            "(2, 2)\n",
            "(2, 2, 2)\n"
          ]
        }
      ]
    },
    {
      "cell_type": "markdown",
      "source": [
        "Lastly, you can reshape arrays using the `.reshape` and `.flatten` methods."
      ],
      "metadata": {
        "id": "S72ZnqropChm"
      }
    },
    {
      "cell_type": "code",
      "source": [
        "this_1D_array = np.array([1, 2, 3, 4, 5, 6])\n",
        "print(this_1D_array)\n",
        "\n",
        "this_2D_array = this_1D_array.reshape((3,2)) # the number of elements needs to remain constant after the reshaping\n",
        "print(this_2D_array)\n",
        "\n",
        "this_1D_array2 = this_2D_array.flatten() # reverts the array back to 1 dimension\n",
        "print(this_1D_array2)"
      ],
      "metadata": {
        "colab": {
          "base_uri": "https://localhost:8080/"
        },
        "id": "J-MKX8PJpIc3",
        "outputId": "9707001b-1db1-4e93-c5bd-fdb1023f53ef"
      },
      "execution_count": 27,
      "outputs": [
        {
          "output_type": "stream",
          "name": "stdout",
          "text": [
            "[1 2 3 4 5 6]\n",
            "[[1 2]\n",
            " [3 4]\n",
            " [5 6]]\n",
            "[1 2 3 4 5 6]\n"
          ]
        }
      ]
    },
    {
      "cell_type": "markdown",
      "source": [
        "#### Setting the data type of an array"
      ],
      "metadata": {
        "id": "aV5UWnrBXhy8"
      }
    },
    {
      "cell_type": "markdown",
      "metadata": {
        "id": "LmX0EDWVsoDY"
      },
      "source": [
        "Contrary to Python lists, NumPy arrays must have a type and all elements of the array must have the same type."
      ]
    },
    {
      "cell_type": "code",
      "metadata": {
        "id": "FZjOowkls57o",
        "colab": {
          "base_uri": "https://localhost:8080/"
        },
        "outputId": "cfe7dafa-4ebf-4685-e4f5-401350c79dcf"
      },
      "source": [
        "my_array.dtype"
      ],
      "execution_count": null,
      "outputs": [
        {
          "output_type": "execute_result",
          "data": {
            "text/plain": [
              "dtype('int64')"
            ]
          },
          "metadata": {},
          "execution_count": 57
        }
      ]
    },
    {
      "cell_type": "markdown",
      "metadata": {
        "id": "i5AvLdf7tGnZ"
      },
      "source": [
        "The main types are `int32` (32-bit integers), `int64` (64-bit integers), `float32` (32-bit real values) and `float64` (64-bit real values)."
      ]
    },
    {
      "cell_type": "markdown",
      "metadata": {
        "id": "w8ym2qZCt9Nm"
      },
      "source": [
        "The `dtype` can be specified when creating the array"
      ]
    },
    {
      "cell_type": "code",
      "metadata": {
        "id": "gXpM_FqruCVv",
        "colab": {
          "base_uri": "https://localhost:8080/"
        },
        "outputId": "783c2187-1f38-4153-e310-2a416f7c1d7e"
      },
      "source": [
        "my_array = np.array([1, 2, 3], dtype=np.float64)\n",
        "my_array.dtype"
      ],
      "execution_count": null,
      "outputs": [
        {
          "output_type": "execute_result",
          "data": {
            "text/plain": [
              "dtype('float64')"
            ]
          },
          "metadata": {},
          "execution_count": 58
        }
      ]
    },
    {
      "cell_type": "markdown",
      "source": [
        "#### Initializing N-D arrays with \"placeholder\" values\n"
      ],
      "metadata": {
        "id": "tIMAJmCJXn3g"
      }
    },
    {
      "cell_type": "markdown",
      "source": [
        "You can create arrays of arbitrary shape and size using the functions `np.zeros`, `np.ones`, and `np.full`. This is useful for initializing arrays that you will later edit."
      ],
      "metadata": {
        "id": "h5-OlUVbgJmy"
      }
    },
    {
      "cell_type": "code",
      "source": [
        "zeros_array = np.zeros(shape=(3,3))\n",
        "zeros_array"
      ],
      "metadata": {
        "colab": {
          "base_uri": "https://localhost:8080/"
        },
        "id": "QoSLHK5vghi2",
        "outputId": "662fad87-71d7-45eb-cb3f-afab1fa221bc"
      },
      "execution_count": 10,
      "outputs": [
        {
          "output_type": "execute_result",
          "data": {
            "text/plain": [
              "array([[0., 0., 0.],\n",
              "       [0., 0., 0.],\n",
              "       [0., 0., 0.]])"
            ]
          },
          "metadata": {},
          "execution_count": 10
        }
      ]
    },
    {
      "cell_type": "code",
      "source": [
        "ones_array = np.ones(shape=(3,3))\n",
        "ones_array"
      ],
      "metadata": {
        "colab": {
          "base_uri": "https://localhost:8080/"
        },
        "id": "trCUa3wVgpUG",
        "outputId": "c7f08c8c-6d4e-4c65-c78a-d1d4a596429e"
      },
      "execution_count": 11,
      "outputs": [
        {
          "output_type": "execute_result",
          "data": {
            "text/plain": [
              "array([[1., 1., 1.],\n",
              "       [1., 1., 1.],\n",
              "       [1., 1., 1.]])"
            ]
          },
          "metadata": {},
          "execution_count": 11
        }
      ]
    },
    {
      "cell_type": "code",
      "source": [
        "elevens_array = np.full(shape=(3,3), fill_value=11) # you can set fill_value to anything\n",
        "elevens_array"
      ],
      "metadata": {
        "colab": {
          "base_uri": "https://localhost:8080/"
        },
        "id": "U8gbX5iQgs0H",
        "outputId": "7eb45d2f-c30e-4f3b-a411-3a894c1bb481"
      },
      "execution_count": 14,
      "outputs": [
        {
          "output_type": "execute_result",
          "data": {
            "text/plain": [
              "array([[11, 11, 11],\n",
              "       [11, 11, 11],\n",
              "       [11, 11, 11]])"
            ]
          },
          "metadata": {},
          "execution_count": 14
        }
      ]
    },
    {
      "cell_type": "markdown",
      "source": [
        "You can also make arrays with random values between zero and one using `np.random.random`."
      ],
      "metadata": {
        "id": "i7kO5soIg9P3"
      }
    },
    {
      "cell_type": "code",
      "source": [
        "random_array = np.random.random(size=(3,3))\n",
        "random_array"
      ],
      "metadata": {
        "colab": {
          "base_uri": "https://localhost:8080/"
        },
        "id": "c0UrRxeuhFsW",
        "outputId": "16088dcc-631b-401e-f797-2d4ec8f72125"
      },
      "execution_count": 13,
      "outputs": [
        {
          "output_type": "execute_result",
          "data": {
            "text/plain": [
              "array([[0.37383208, 0.8454054 , 0.5775575 ],\n",
              "       [0.81165519, 0.57581227, 0.08610639],\n",
              "       [0.81480639, 0.91730608, 0.55832865]])"
            ]
          },
          "metadata": {},
          "execution_count": 13
        }
      ]
    },
    {
      "cell_type": "markdown",
      "source": [
        "#### Creating arrays with increasing values"
      ],
      "metadata": {
        "id": "HB1UcEC7lP3O"
      }
    },
    {
      "cell_type": "markdown",
      "source": [
        "You can create arrays in which the values of the elements increase an regular intervals using `np.arange` and `np.linspace`."
      ],
      "metadata": {
        "id": "8fNPTBoFlXfH"
      }
    },
    {
      "cell_type": "code",
      "source": [
        "increasing_array1 = np.arange(start=0, stop=12, step=2)\n",
        "print(increasing_array1)\n",
        "\n",
        "increasing_array2 = np.arange(20) # default start value is 0 and default step size is 1, so you can usually just specify the end value\n",
        "print(increasing_array2)"
      ],
      "metadata": {
        "colab": {
          "base_uri": "https://localhost:8080/"
        },
        "id": "MUrWpXE8lhS-",
        "outputId": "3b13a6cb-e2b5-4363-a5c5-112dc865bbe4"
      },
      "execution_count": 18,
      "outputs": [
        {
          "output_type": "stream",
          "name": "stdout",
          "text": [
            "[ 0  2  4  6  8 10]\n",
            "[ 0  1  2  3  4  5  6  7  8  9 10 11 12 13 14 15 16 17 18 19]\n"
          ]
        }
      ]
    },
    {
      "cell_type": "code",
      "source": [
        "increasing_array3 = np.linspace(start=0, stop=10, num=20) # with np.linspace you specify the total number of elements, rather than the step size\n",
        "print(increasing_array3) # all values will be evenly spaced"
      ],
      "metadata": {
        "colab": {
          "base_uri": "https://localhost:8080/"
        },
        "id": "TtZnPbbonPqZ",
        "outputId": "dc0f3dcf-5d31-4a48-baa8-78ec8165e778"
      },
      "execution_count": 22,
      "outputs": [
        {
          "output_type": "stream",
          "name": "stdout",
          "text": [
            "[ 0.          0.52631579  1.05263158  1.57894737  2.10526316  2.63157895\n",
            "  3.15789474  3.68421053  4.21052632  4.73684211  5.26315789  5.78947368\n",
            "  6.31578947  6.84210526  7.36842105  7.89473684  8.42105263  8.94736842\n",
            "  9.47368421 10.        ]\n"
          ]
        }
      ]
    },
    {
      "cell_type": "markdown",
      "source": [
        "## Array indexing"
      ],
      "metadata": {
        "id": "XCjcHNudn88G"
      }
    },
    {
      "cell_type": "markdown",
      "source": [
        "#### Basic indexing and slicing"
      ],
      "metadata": {
        "id": "66Fm5nqTyY59"
      }
    },
    {
      "cell_type": "markdown",
      "source": [
        "We can index and slice numpy arrays in all the ways we can slice Python lists:\n",
        "\n",
        "![](http://jalammar.github.io/images/numpy/numpy-array-slice.png)\n",
        "\n",
        "And you can index and slice numpy arrays in multiple dimensions. If slicing an array with more than one dimension, you should specify a slice for each dimension:\n",
        "\n",
        "![](http://jalammar.github.io/images/numpy/numpy-matrix-indexing.png)"
      ],
      "metadata": {
        "id": "buQ88SmeqLPs"
      }
    },
    {
      "cell_type": "code",
      "source": [
        "# Create the following rank 2 array with shape (3, 4)\n",
        "# [[ 1  2  3  4]\n",
        "#  [ 5  6  7  8]\n",
        "#  [ 9 10 11 12]]\n",
        "a = np.array([[1,2,3,4], [5,6,7,8], [9,10,11,12]])\n",
        "\n",
        "# Use slicing to pull out the subarray consisting of the first 2 rows\n",
        "# and columns 1 and 2; b is the following array of shape (2, 2):\n",
        "# [[2 3]\n",
        "#  [6 7]]\n",
        "b = a[:2, 1:3]\n",
        "print(b)"
      ],
      "metadata": {
        "colab": {
          "base_uri": "https://localhost:8080/"
        },
        "id": "7ubclYDfqtFR",
        "outputId": "f82c26ae-d4dc-485d-d08b-514ad4dc5145"
      },
      "execution_count": 28,
      "outputs": [
        {
          "output_type": "stream",
          "name": "stdout",
          "text": [
            "[[2 3]\n",
            " [6 7]]\n"
          ]
        }
      ]
    },
    {
      "cell_type": "markdown",
      "source": [
        "A slice of an array is a view into the same data, so modifying it will modify the original array."
      ],
      "metadata": {
        "id": "Gdeq8NiurVd1"
      }
    },
    {
      "cell_type": "code",
      "source": [
        "print(a[0, 1])\n",
        "b[0, 0] = 10    # b[0, 0] is the same piece of data as a[0, 1]\n",
        "print(a[0, 1])"
      ],
      "metadata": {
        "colab": {
          "base_uri": "https://localhost:8080/"
        },
        "id": "Dj7ZjTpyrWVj",
        "outputId": "4891350f-c327-4955-8296-e4f9f63956a1"
      },
      "execution_count": 29,
      "outputs": [
        {
          "output_type": "stream",
          "name": "stdout",
          "text": [
            "2\n",
            "10\n"
          ]
        }
      ]
    },
    {
      "cell_type": "markdown",
      "source": [
        "You can also mix integer indexing with slicing to get specific rows/columns from your N-D array."
      ],
      "metadata": {
        "id": "ON2pHBJ1sFPu"
      }
    },
    {
      "cell_type": "code",
      "source": [
        "# [[ 1  2  3  4]\n",
        "#  [ 5  6  7  8]\n",
        "#  [ 9 10 11 12]]\n",
        "a = np.array([[1,2,3,4], [5,6,7,8], [9,10,11,12]])\n",
        "\n",
        "# let's get the middle row of the array a\n",
        "middle_row = a[1, :]\n",
        "print(middle_row)\n",
        "\n",
        "# now let's get the second column\n",
        "middle_col = a[:, 1]\n",
        "print(middle_col)"
      ],
      "metadata": {
        "colab": {
          "base_uri": "https://localhost:8080/"
        },
        "id": "x9sDbo61sNBh",
        "outputId": "20b4b256-5e33-4663-8c04-492bd50bae51"
      },
      "execution_count": 31,
      "outputs": [
        {
          "output_type": "stream",
          "name": "stdout",
          "text": [
            "[5 6 7 8]\n",
            "[ 2  6 10]\n"
          ]
        }
      ]
    },
    {
      "cell_type": "markdown",
      "source": [
        "#### Integer array indexing"
      ],
      "metadata": {
        "id": "hLPG1fsnyPsA"
      }
    },
    {
      "cell_type": "markdown",
      "source": [
        "When you index into numpy arrays using slicing, the resulting array view will always be a subarray of the original array. In contrast, integer array indexing allows you to construct arbitrary arrays using the data from another array. Here is an example:"
      ],
      "metadata": {
        "id": "hli1e3STsvTN"
      }
    },
    {
      "cell_type": "code",
      "source": [
        "a = np.array([\n",
        "      [1, 2],\n",
        "      [3, 4],\n",
        "      [5, 6]\n",
        "    ])\n",
        "\n",
        "# An example of integer array indexing.\n",
        "# The returned array will have shape (3,)\n",
        "print(a[[0, 1, 2], [0, 1, 0]])"
      ],
      "metadata": {
        "colab": {
          "base_uri": "https://localhost:8080/"
        },
        "id": "amd9X48Qszic",
        "outputId": "44ee0f14-c659-46fd-a64a-593482617122"
      },
      "execution_count": 33,
      "outputs": [
        {
          "output_type": "stream",
          "name": "stdout",
          "text": [
            "[1 4 5]\n"
          ]
        }
      ]
    },
    {
      "cell_type": "markdown",
      "source": [
        "#### Boolean array indexing"
      ],
      "metadata": {
        "id": "2st9HXLLyLDV"
      }
    },
    {
      "cell_type": "markdown",
      "source": [
        "Boolean array indexing lets you pick out arbitrary elements of an array. Frequently this type of indexing is used to select the elements of an array that satisfy some condition. Here is an example:"
      ],
      "metadata": {
        "id": "pZO0XPvfx81T"
      }
    },
    {
      "cell_type": "code",
      "source": [
        "a = np.array([[1,2], [3, 4], [5, 6]])\n",
        "\n",
        "bool_idx = (a > 2)  # Find the elements of a that are bigger than 2;\n",
        "                    # this returns a numpy array of Booleans of the same\n",
        "                    # shape as a, where each slot of bool_idx tells\n",
        "                    # whether that element of a is > 2.\n",
        "\n",
        "print(bool_idx)"
      ],
      "metadata": {
        "colab": {
          "base_uri": "https://localhost:8080/"
        },
        "id": "2euIL1uxyDwE",
        "outputId": "0ad35d05-e420-47bc-edfa-fcbd78f7e4d3"
      },
      "execution_count": 34,
      "outputs": [
        {
          "output_type": "stream",
          "name": "stdout",
          "text": [
            "[[False False]\n",
            " [ True  True]\n",
            " [ True  True]]\n"
          ]
        }
      ]
    },
    {
      "cell_type": "code",
      "source": [
        "# We use boolean array indexing to construct a rank 1 array\n",
        "# consisting of the elements of a corresponding to the True values\n",
        "# of bool_idx\n",
        "print(a[bool_idx])\n",
        "\n",
        "# We can do all of the above in a single concise statement:\n",
        "print(a[a > 2])"
      ],
      "metadata": {
        "colab": {
          "base_uri": "https://localhost:8080/"
        },
        "id": "upehIsUJyIUy",
        "outputId": "a83a64af-4c63-48c8-88e8-e4ea5cb67e0d"
      },
      "execution_count": 35,
      "outputs": [
        {
          "output_type": "stream",
          "name": "stdout",
          "text": [
            "[3 4 5 6]\n",
            "[3 4 5 6]\n"
          ]
        }
      ]
    },
    {
      "cell_type": "markdown",
      "source": [
        "#### Finding specific indices"
      ],
      "metadata": {
        "id": "064Iqg8jydfQ"
      }
    },
    {
      "cell_type": "markdown",
      "source": [
        "When working with numpy arrays, it’s often helpful to get the *indices* (not only the values) of array elements that meet certain conditions. There are a few numpy functions that you’ll definitely want to remember:\n",
        "\n",
        "-   [`argmax`](https://numpy.org/doc/stable/reference/generated/numpy.argmax.html) (get index of maximum element in array)\n",
        "-   [`argmin`](https://numpy.org/doc/stable/reference/generated/numpy.argmin.html) (get index of minimum element in array)\n",
        "-   [`argsort`](https://numpy.org/doc/stable/reference/generated/numpy.argsort.html) (get sorted list of indices, by element value, in ascending order)\n",
        "-   [`where`](https://numpy.org/doc/stable/reference/generated/numpy.where.html) (get indices of elements that meet some condition)"
      ],
      "metadata": {
        "id": "FpaeObGGypfk"
      }
    },
    {
      "cell_type": "code",
      "source": [
        "a = np.array([1, 8, 9, -3, 2, 4, 7, 9])\n",
        "\n",
        "# Get the index of the maximum element in a\n",
        "print(np.argmax(a))\n",
        "\n",
        "# Get the index of the minimum element in a\n",
        "# (this array has two elements with the maximum value -\n",
        "# only one index is returned)\n",
        "print(np.argmin(a))\n",
        "\n",
        "# Get sorted list of indices\n",
        "print(np.argsort(a))\n",
        "\n",
        "# Get sorted list of indices in descending order\n",
        "# [::-1] is a special slicing index that returns the reversed list\n",
        "print(np.argsort(a)[::-1])\n",
        "\n",
        "# Get indices of elements that meet some condition\n",
        "# this returns a tuple, the list of indices is the first entry\n",
        "# so we use [0] to get it\n",
        "print(np.where(a > 5)[0])\n",
        "\n",
        "# Get indices of elements that meet some condition\n",
        "# this example shows how to get the index of *all* the max values\n",
        "print(np.where(a >= a[np.argmax(a)])[0])"
      ],
      "metadata": {
        "colab": {
          "base_uri": "https://localhost:8080/"
        },
        "id": "IxXjBBEAyspQ",
        "outputId": "71e783ae-5e39-4ea8-8958-818aec52f15c"
      },
      "execution_count": 36,
      "outputs": [
        {
          "output_type": "stream",
          "name": "stdout",
          "text": [
            "2\n",
            "3\n",
            "[3 0 4 5 6 1 2 7]\n",
            "[7 2 1 6 5 4 0 3]\n",
            "[1 2 6 7]\n",
            "[2 7]\n"
          ]
        }
      ]
    },
    {
      "cell_type": "markdown",
      "metadata": {
        "id": "f9B0iCBlmfeY"
      },
      "source": [
        "## Math with NumPy"
      ]
    },
    {
      "cell_type": "markdown",
      "metadata": {
        "id": "elQGgkqDxKLV"
      },
      "source": [
        "NumPy makes it easy to do math with built-in constants, functions, and operations. Let's explore a few of these below."
      ]
    },
    {
      "cell_type": "markdown",
      "source": [
        "#### Constants"
      ],
      "metadata": {
        "id": "OSZ657AR0Tbj"
      }
    },
    {
      "cell_type": "markdown",
      "source": [
        "First off, NumPy has a bunch of pre-defined constants that will come in handy."
      ],
      "metadata": {
        "id": "XmWY1opP0u7g"
      }
    },
    {
      "cell_type": "code",
      "source": [
        "print(\"pi = \", np.pi)\n",
        "print(\"e =\", np.e)\n",
        "print(\"infinity =\", np.inf)\n",
        "print(\"not a number =\", np.nan)"
      ],
      "metadata": {
        "colab": {
          "base_uri": "https://localhost:8080/"
        },
        "id": "J9wehMYX0U2r",
        "outputId": "31d2af46-490e-4120-a2a8-e6162cba1900"
      },
      "execution_count": 44,
      "outputs": [
        {
          "output_type": "stream",
          "name": "stdout",
          "text": [
            "pi =  3.141592653589793\n",
            "e = 2.718281828459045\n",
            "infinity = inf\n",
            "not a number = nan\n"
          ]
        }
      ]
    },
    {
      "cell_type": "markdown",
      "source": [
        "#### Arithmetic operations"
      ],
      "metadata": {
        "id": "up6NzL_h1HZJ"
      }
    },
    {
      "cell_type": "markdown",
      "metadata": {
        "id": "hkCU1T8ixghX"
      },
      "source": [
        "Arithmetic operations can be performed directly over arrays. For instance, assuming two arrays have a compatible shape, we can add them as follows"
      ]
    },
    {
      "cell_type": "code",
      "metadata": {
        "id": "4AoiRq42x5mI",
        "colab": {
          "base_uri": "https://localhost:8080/"
        },
        "outputId": "8da24e18-1cec-41b0-8484-53cd84530334"
      },
      "source": [
        "array_a = np.array([1, 2, 3])\n",
        "array_b = np.array([4, 5, 6])\n",
        "array_a + array_b"
      ],
      "execution_count": 50,
      "outputs": [
        {
          "output_type": "execute_result",
          "data": {
            "text/plain": [
              "array([5, 7, 9])"
            ]
          },
          "metadata": {},
          "execution_count": 50
        }
      ]
    },
    {
      "cell_type": "markdown",
      "source": [
        "Note that adding lists does not work this way. This is what happens if you try to add two lists in this way."
      ],
      "metadata": {
        "id": "JLwZDRjAGq7S"
      }
    },
    {
      "cell_type": "code",
      "source": [
        "list_a = [1, 2, 3]\n",
        "list_b = [4, 5, 6]\n",
        "list_a + list_b"
      ],
      "metadata": {
        "colab": {
          "base_uri": "https://localhost:8080/"
        },
        "id": "tb6aOUKAGx-6",
        "outputId": "3521010f-3d48-4788-9ca9-b940ef83ffb4"
      },
      "execution_count": 46,
      "outputs": [
        {
          "output_type": "execute_result",
          "data": {
            "text/plain": [
              "[1, 2, 3, 4, 5, 6]"
            ]
          },
          "metadata": {},
          "execution_count": 46
        }
      ]
    },
    {
      "cell_type": "markdown",
      "metadata": {
        "id": "SyPqME2EyD4x"
      },
      "source": [
        "If you want to add a list element-wise, you need to add a loop. This is MUCH less efficient, and will increase the runtime of your code significantly. It's always better to use NumPy if you can!"
      ]
    },
    {
      "cell_type": "code",
      "metadata": {
        "id": "HxRFA_U2yfI-",
        "colab": {
          "base_uri": "https://localhost:8080/"
        },
        "outputId": "c0ad4f1d-f8bb-42d3-c7f2-da552a11aee2"
      },
      "source": [
        "array_out = np.zeros_like(array_a)\n",
        "for i in range(len(array_a)):\n",
        "    array_out[i] = array_a[i] + array_b[i]\n",
        "array_out"
      ],
      "execution_count": 49,
      "outputs": [
        {
          "output_type": "execute_result",
          "data": {
            "text/plain": [
              "array([5, 7, 9])"
            ]
          },
          "metadata": {},
          "execution_count": 49
        }
      ]
    },
    {
      "cell_type": "markdown",
      "source": [
        "Other arithmetic operations (subtraction, multiplication, division) work the same."
      ],
      "metadata": {
        "id": "FroS7B3-1dfK"
      }
    },
    {
      "cell_type": "markdown",
      "source": [
        "#### Universal functions"
      ],
      "metadata": {
        "id": "SmNAe_D31jPv"
      }
    },
    {
      "cell_type": "markdown",
      "metadata": {
        "id": "Qdn8MwpR0wX_"
      },
      "source": [
        "In NumPy, functions that operates on arrays in an element-wise fashion are called [universal functions](https://numpy.org/doc/stable/reference/ufuncs.html). Here are a few, to give you an idea:"
      ]
    },
    {
      "cell_type": "code",
      "metadata": {
        "id": "JoanjiMu1BH5",
        "colab": {
          "base_uri": "https://localhost:8080/"
        },
        "outputId": "a04f83fc-880f-4c19-b737-adc96de6cd23"
      },
      "source": [
        "print(np.sin(array_a)) # sine function\n",
        "print(np.cos(array_a)) # cosine function\n",
        "print(np.exp(array_a)) # exponential\n",
        "print(np.log(array_a)) # natural logarithm\n",
        "print(np.log10(array_a)) # base-10 logarithm\n",
        "print(np.sqrt(array_a)) # square root"
      ],
      "execution_count": 54,
      "outputs": [
        {
          "output_type": "stream",
          "name": "stdout",
          "text": [
            "[0.84147098 0.90929743 0.14112001]\n",
            "[ 0.54030231 -0.41614684 -0.9899925 ]\n",
            "[ 2.71828183  7.3890561  20.08553692]\n",
            "[0.         0.69314718 1.09861229]\n",
            "[0.         0.30103    0.47712125]\n",
            "[1.         1.41421356 1.73205081]\n"
          ]
        }
      ]
    },
    {
      "cell_type": "markdown",
      "source": [
        "Some other useful functions include:\n",
        "- np.max() and np.min(): return the max and min elements of an array\n",
        "- np.sum(): returns the sum of all elements in an array\n",
        "- np.mean(), np.median(), np.std(): return the average, median, and standard deviation of elements in an array\n",
        "\n",
        "Here are some visualizations of how they work:\n",
        "\n",
        "![](http://jalammar.github.io/images/numpy/numpy-matrix-aggregation-1.png)\n",
        "\n",
        "You can also specify an axis to perform the operation over:\n",
        "\n",
        "![](http://jalammar.github.io/images/numpy/numpy-matrix-aggregation-4.png)\n",
        "\n",
        "There are tons of others. You can usually find a function that meets your needs via a Google search."
      ],
      "metadata": {
        "id": "-aCxXYzXlAYu"
      }
    },
    {
      "cell_type": "markdown",
      "source": [
        "#### Matrix math"
      ],
      "metadata": {
        "id": "kF65px18220T"
      }
    },
    {
      "cell_type": "markdown",
      "source": [
        "You can also treat NumPy arrays like vectors and matrices. The function `np.dot` takes the inner product of two 1D arrays, multiply a vector by a matrix, or multiply two matrices."
      ],
      "metadata": {
        "id": "tC7j5rhs25UA"
      }
    },
    {
      "cell_type": "code",
      "source": [
        "x = np.array([[1,2],[3,4]])\n",
        "y = np.array([[5,6],[7,8]])\n",
        "\n",
        "v = np.array([9,10])\n",
        "w = np.array([11, 12])\n",
        "\n",
        "# Inner product of vectors; both produce 219\n",
        "print(np.dot(v, w))\n",
        "print(v @ w)"
      ],
      "metadata": {
        "colab": {
          "base_uri": "https://localhost:8080/"
        },
        "id": "kuA5MIX-35UQ",
        "outputId": "c18ce2c0-6683-4fa1-e987-f65e22e3e9cc"
      },
      "execution_count": 56,
      "outputs": [
        {
          "output_type": "stream",
          "name": "stdout",
          "text": [
            "219\n",
            "219\n"
          ]
        }
      ]
    },
    {
      "cell_type": "code",
      "source": [
        "# Matrix / vector product; both produce the rank 1 array [29 67]\n",
        "print(np.dot(x, v))\n",
        "print(x @ v)"
      ],
      "metadata": {
        "colab": {
          "base_uri": "https://localhost:8080/"
        },
        "id": "IZiGdEe64CI_",
        "outputId": "8897e763-228f-4adc-b92b-766e7c2027bd"
      },
      "execution_count": 59,
      "outputs": [
        {
          "output_type": "stream",
          "name": "stdout",
          "text": [
            "[29 67]\n",
            "[29 67]\n"
          ]
        }
      ]
    },
    {
      "cell_type": "code",
      "source": [
        "# Matrix / matrix product; both produce the rank 2 array\n",
        "# [[19 22]\n",
        "#  [43 50]]\n",
        "print(np.dot(x, y))\n",
        "print(x @ y)"
      ],
      "metadata": {
        "colab": {
          "base_uri": "https://localhost:8080/"
        },
        "id": "ev0yWsWl4HPF",
        "outputId": "c371698a-b24a-4b6d-eb36-253c39242ea5"
      },
      "execution_count": 58,
      "outputs": [
        {
          "output_type": "stream",
          "name": "stdout",
          "text": [
            "[[19 22]\n",
            " [43 50]]\n",
            "[[19 22]\n",
            " [43 50]]\n"
          ]
        }
      ]
    },
    {
      "cell_type": "markdown",
      "metadata": {
        "id": "odVawD9m6gwv"
      },
      "source": [
        "Matrix transpose can be done using `.transpose()` or `.T` for short"
      ]
    },
    {
      "cell_type": "code",
      "metadata": {
        "id": "gvPe_JAO6mvF",
        "colab": {
          "base_uri": "https://localhost:8080/"
        },
        "outputId": "0023440a-c592-4172-d538-013b8be42328"
      },
      "source": [
        "my_array = np.array([[1,2,3],\n",
        "                     [4,5,6]]\n",
        "                   )\n",
        "my_array.T"
      ],
      "execution_count": 60,
      "outputs": [
        {
          "output_type": "execute_result",
          "data": {
            "text/plain": [
              "array([[1, 4],\n",
              "       [2, 5],\n",
              "       [3, 6]])"
            ]
          },
          "metadata": {},
          "execution_count": 60
        }
      ]
    },
    {
      "cell_type": "markdown",
      "source": [
        "## Broadcasting"
      ],
      "metadata": {
        "id": "48gvawLJ5UpV"
      }
    },
    {
      "cell_type": "markdown",
      "source": [
        "Broadcasting is a powerful mechanism that allows numpy to work with arrays of different shapes when performing arithmetic operations."
      ],
      "metadata": {
        "id": "FLlXmaOZ8r6f"
      }
    },
    {
      "cell_type": "markdown",
      "source": [
        "For example: basic linear algebra, we can only add (and perform similar element-wise operations) two matrics that have the *same* dimension. In numpy, if we want to add two matrics that have different dimensions, numpy will implicitly “extend” the dimension of one matrix to match the other so that we can perform the operation."
      ],
      "metadata": {
        "id": "NLj4bzid8kzu"
      }
    },
    {
      "cell_type": "markdown",
      "source": [
        "Here are some examples of when broadcasting *works*:\n",
        "\n",
        "**Case 1**: When the two arrays have the same dimensions. This is just the normal case of adding two arrays.\n",
        "\n"
      ],
      "metadata": {
        "id": "Y7Yt5N2881vj"
      }
    },
    {
      "cell_type": "markdown",
      "source": [
        "**Case 2**: When adding a single number to an array, the single number is stretched in N dimension to match the shape of the array."
      ],
      "metadata": {
        "id": "o4WLxWA1FbmB"
      }
    },
    {
      "cell_type": "code",
      "source": [
        "a = np.array([[1,2], [3,4], [5,6]])\n",
        "b = 1\n",
        "c = a + b\n",
        "c\n",
        "\n",
        "# Visualization\n",
        "#\n",
        "#   [1, 2]       [1, 2]   [1, 1]   [1+1, 2+1]   [2, 3]\n",
        "#   [3, 4] + 1 = [3, 4] + [1, 1] = [3+1, 4+1] = [4, 5]\n",
        "#   [5, 6]       [5, 6]   [1, 1]   [5+1, 6+1]   [6, 7]\n",
        "#"
      ],
      "metadata": {
        "colab": {
          "base_uri": "https://localhost:8080/"
        },
        "id": "sTwRx1KVFjjw",
        "outputId": "e7c503cf-0ab8-41e0-bac2-831c77cd41d9"
      },
      "execution_count": 71,
      "outputs": [
        {
          "output_type": "execute_result",
          "data": {
            "text/plain": [
              "array([[2, 3],\n",
              "       [4, 5],\n",
              "       [6, 7]])"
            ]
          },
          "metadata": {},
          "execution_count": 71
        }
      ]
    },
    {
      "cell_type": "markdown",
      "source": [
        "**Case 3**: When each array has only 1 dimension, but along different axes, both arrays are stretched."
      ],
      "metadata": {
        "id": "kCSmaN_kDGtM"
      }
    },
    {
      "cell_type": "code",
      "source": [
        "a = np.array([[4], [5], [6]])\n",
        "b = np.array([1, 2, 3])\n",
        "c = a + b\n",
        "c\n",
        "\n",
        "# Visualization\n",
        "#\n",
        "#   [4]   [1, 2, 3]   [4, 4, 4]   [1, 2, 3]   [4+1, 4+2, 4+3]   [5, 6, 7]\n",
        "#   [5] +           = [5, 5, 5] + [1, 2, 3] = [5+1, 5+2, 5+3] = [6, 7, 8]\n",
        "#   [6]               [6, 6, 6]   [1, 2, 3]   [6+1, 6+2, 6+3]   [7, 8, 9]\n",
        "#"
      ],
      "metadata": {
        "colab": {
          "base_uri": "https://localhost:8080/"
        },
        "id": "ok0tjkZq88lG",
        "outputId": "f0174118-c6db-40c0-bf96-91c00705dd39"
      },
      "execution_count": 67,
      "outputs": [
        {
          "output_type": "execute_result",
          "data": {
            "text/plain": [
              "array([[5, 6, 7],\n",
              "       [6, 7, 8],\n",
              "       [7, 8, 9]])"
            ]
          },
          "metadata": {},
          "execution_count": 67
        }
      ]
    },
    {
      "cell_type": "markdown",
      "source": [
        "**Case 4**: If the shapes of the two arrays match along one axis and the size of the non-matching axis of the smaller array is 1, that axis gets stretched."
      ],
      "metadata": {
        "id": "RLp3lzWp9phr"
      }
    },
    {
      "cell_type": "code",
      "source": [
        "a = np.array([[4,5], [6,7], [8,9]])\n",
        "b = np.array([[1],[2],[3]])\n",
        "c = a + b\n",
        "c\n",
        "\n",
        "# Visualization\n",
        "#\n",
        "#   [4, 5]   [1]   [4, 5]   [1, 1]   [4+1, 5+1]   [5,  6 ]\n",
        "#   [6, 7] + [2] = [6, 7] + [2, 2] = [6+2, 7+2] = [8,  9 ]\n",
        "#   [8, 9]   [3]   [8, 9]   [3, 3]   [8+3, 9+3]   [11, 12]\n",
        "#"
      ],
      "metadata": {
        "colab": {
          "base_uri": "https://localhost:8080/"
        },
        "id": "JXLUynCk9xGX",
        "outputId": "bbb94136-e181-403a-dbaf-adcaba8d37c0"
      },
      "execution_count": 68,
      "outputs": [
        {
          "output_type": "execute_result",
          "data": {
            "text/plain": [
              "array([[ 5,  6],\n",
              "       [ 8,  9],\n",
              "       [11, 12]])"
            ]
          },
          "metadata": {},
          "execution_count": 68
        }
      ]
    },
    {
      "cell_type": "code",
      "source": [
        "a = np.array([[4,5], [6,7], [8,9]])\n",
        "b = np.array([1, 2])\n",
        "c = a + b\n",
        "c\n",
        "\n",
        "# Visualization\n",
        "#\n",
        "#   [4, 5]   [1, 2]   [4, 5]   [1, 2]   [4+1, 5+2]   [5, 7 ]\n",
        "#   [6, 7] +        = [6, 7] + [1, 2] = [6+1, 7+2] = [7, 9 ]\n",
        "#   [8, 9]            [8, 9]   [1, 2]   [8+1, 9+2]   [9, 11]\n",
        "#"
      ],
      "metadata": {
        "colab": {
          "base_uri": "https://localhost:8080/"
        },
        "id": "-hjIHuvxEyDc",
        "outputId": "29fb34d5-6d77-4f4d-9a30-810dc4f482f7"
      },
      "execution_count": 70,
      "outputs": [
        {
          "output_type": "execute_result",
          "data": {
            "text/plain": [
              "array([[ 5,  7],\n",
              "       [ 7,  9],\n",
              "       [ 9, 11]])"
            ]
          },
          "metadata": {},
          "execution_count": 70
        }
      ]
    },
    {
      "cell_type": "markdown",
      "source": [
        "Broadcasting will *fail* if the two arrays do not have any common axes with the same lengths."
      ],
      "metadata": {
        "id": "2L8P8TISFKRM"
      }
    },
    {
      "cell_type": "code",
      "source": [
        "a = np.array([[4,5], [6,7], [8,9]])\n",
        "b = np.array([1, 2, 3])\n",
        "c = a + b\n",
        "c\n",
        "\n",
        "# Visualization\n",
        "#\n",
        "#   [4, 5]   [1, 2, 3]\n",
        "#   [6, 7] +           = error\n",
        "#   [8, 9]\n",
        "#"
      ],
      "metadata": {
        "colab": {
          "base_uri": "https://localhost:8080/",
          "height": 211
        },
        "id": "y75B3exBGCYX",
        "outputId": "7ddb50ed-3335-4f04-e28a-58c90fa667a0"
      },
      "execution_count": 72,
      "outputs": [
        {
          "output_type": "error",
          "ename": "ValueError",
          "evalue": "operands could not be broadcast together with shapes (3,2) (3,) ",
          "traceback": [
            "\u001b[0;31m---------------------------------------------------------------------------\u001b[0m",
            "\u001b[0;31mValueError\u001b[0m                                Traceback (most recent call last)",
            "\u001b[0;32m<ipython-input-72-d0e21b94c0f8>\u001b[0m in \u001b[0;36m<cell line: 3>\u001b[0;34m()\u001b[0m\n\u001b[1;32m      1\u001b[0m \u001b[0ma\u001b[0m \u001b[0;34m=\u001b[0m \u001b[0mnp\u001b[0m\u001b[0;34m.\u001b[0m\u001b[0marray\u001b[0m\u001b[0;34m(\u001b[0m\u001b[0;34m[\u001b[0m\u001b[0;34m[\u001b[0m\u001b[0;36m4\u001b[0m\u001b[0;34m,\u001b[0m\u001b[0;36m5\u001b[0m\u001b[0;34m]\u001b[0m\u001b[0;34m,\u001b[0m \u001b[0;34m[\u001b[0m\u001b[0;36m6\u001b[0m\u001b[0;34m,\u001b[0m\u001b[0;36m7\u001b[0m\u001b[0;34m]\u001b[0m\u001b[0;34m,\u001b[0m \u001b[0;34m[\u001b[0m\u001b[0;36m8\u001b[0m\u001b[0;34m,\u001b[0m\u001b[0;36m9\u001b[0m\u001b[0;34m]\u001b[0m\u001b[0;34m]\u001b[0m\u001b[0;34m)\u001b[0m\u001b[0;34m\u001b[0m\u001b[0;34m\u001b[0m\u001b[0m\n\u001b[1;32m      2\u001b[0m \u001b[0mb\u001b[0m \u001b[0;34m=\u001b[0m \u001b[0mnp\u001b[0m\u001b[0;34m.\u001b[0m\u001b[0marray\u001b[0m\u001b[0;34m(\u001b[0m\u001b[0;34m[\u001b[0m\u001b[0;36m1\u001b[0m\u001b[0;34m,\u001b[0m \u001b[0;36m2\u001b[0m\u001b[0;34m,\u001b[0m \u001b[0;36m3\u001b[0m\u001b[0;34m]\u001b[0m\u001b[0;34m)\u001b[0m\u001b[0;34m\u001b[0m\u001b[0;34m\u001b[0m\u001b[0m\n\u001b[0;32m----> 3\u001b[0;31m \u001b[0mc\u001b[0m \u001b[0;34m=\u001b[0m \u001b[0ma\u001b[0m \u001b[0;34m+\u001b[0m \u001b[0mb\u001b[0m\u001b[0;34m\u001b[0m\u001b[0;34m\u001b[0m\u001b[0m\n\u001b[0m\u001b[1;32m      4\u001b[0m \u001b[0mc\u001b[0m\u001b[0;34m\u001b[0m\u001b[0;34m\u001b[0m\u001b[0m\n\u001b[1;32m      5\u001b[0m \u001b[0;34m\u001b[0m\u001b[0m\n",
            "\u001b[0;31mValueError\u001b[0m: operands could not be broadcast together with shapes (3,2) (3,) "
          ]
        }
      ]
    },
    {
      "cell_type": "markdown",
      "source": [
        "You can find more info on broadcasting here: https://numpy.org/doc/stable/user/basics.broadcasting.html"
      ],
      "metadata": {
        "id": "zUS8v2hRGNOp"
      }
    },
    {
      "cell_type": "markdown",
      "metadata": {
        "id": "NlGForCimjBL"
      },
      "source": [
        "## Exercises"
      ]
    },
    {
      "cell_type": "markdown",
      "metadata": {
        "id": "Ur1UlSFPTu6O"
      },
      "source": [
        "**Exercise 1.** Create a 3d array of shape (2, 2, 2), containing 8 values. Access individual elements and slices."
      ]
    },
    {
      "cell_type": "code",
      "metadata": {
        "id": "v1ed4-vLUWXQ"
      },
      "source": [],
      "execution_count": null,
      "outputs": []
    },
    {
      "cell_type": "markdown",
      "source": [
        "**Exercise 2**. Create a 1D, 1000-element array that ranges from zero to $\\pi$. Calculate the sine of the array using NumPy and return the index and value of the element in the array at which the sine function is maximized."
      ],
      "metadata": {
        "id": "7W7qZf7zIomI"
      }
    },
    {
      "cell_type": "code",
      "source": [],
      "metadata": {
        "id": "hHo_JL1lJIG5"
      },
      "execution_count": null,
      "outputs": []
    },
    {
      "cell_type": "markdown",
      "metadata": {
        "id": "s_ksfCDJzyxI"
      },
      "source": [
        "**Exercise 3.** Rewrite the relu function using `np.vstack` and `np.max`. Make it work on an array first, but if you want an extra challenge make it also work on a standard int or float datatype.\n",
        "\n",
        "$\\text{relu}(x) = \\left\\{\n",
        "   \\begin{array}{rl}\n",
        "     x, & \\text{if }  x \\ge 0 \\\\\n",
        "     0, & \\text{otherwise }.\n",
        "   \\end{array}\\right.$\\"
      ]
    },
    {
      "cell_type": "code",
      "metadata": {
        "id": "QtSTxH5Dz6f8"
      },
      "source": [
        "def relu_numpy(x):\n",
        "  return\n",
        "\n",
        "relu_numpy(np.array([1, -3, 2.5]))"
      ],
      "execution_count": null,
      "outputs": []
    },
    {
      "cell_type": "markdown",
      "metadata": {
        "id": "wggUjpyRz7fb"
      },
      "source": [
        "**Exercise 4.** Rewrite the [Euclidean norm](https://en.wikipedia.org/wiki/Norm_(mathematics) of a vector (1d array) using NumPy (without for loop)"
      ]
    },
    {
      "cell_type": "code",
      "metadata": {
        "id": "p5BLcHOD0Bhy"
      },
      "source": [
        "def euclidean_norm_numpy(x):\n",
        "  return\n",
        "\n",
        "my_vector = np.array([0.5, -1.2, 3.3, 4.5])\n",
        "euclidean_norm_numpy(my_vector)"
      ],
      "execution_count": null,
      "outputs": []
    },
    {
      "cell_type": "markdown",
      "metadata": {
        "id": "01IteVJ60Il2"
      },
      "source": [
        "**Exercise 5.** Write a function that computes the Euclidean norms of a matrix (2d array) in a row-wise fashion. Hint: use the `axis` argument of [np.sum](https://numpy.org/doc/stable/reference/generated/numpy.sum.html)."
      ]
    },
    {
      "cell_type": "code",
      "metadata": {
        "id": "at5lWRNM0SVG"
      },
      "source": [
        "def euclidean_norm_2d(X):\n",
        "  return\n",
        "\n",
        "my_matrix = np.array([[0.5, -1.2, 4.5],\n",
        "                      [-3.2, 1.9, 2.7]])\n",
        "# Should return an array of size 2.\n",
        "euclidean_norm_2d(my_matrix)"
      ],
      "execution_count": null,
      "outputs": []
    }
  ]
}