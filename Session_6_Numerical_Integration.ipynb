{
  "cells": [
    {
      "cell_type": "markdown",
      "metadata": {
        "id": "view-in-github",
        "colab_type": "text"
      },
      "source": [
        "<a href=\"https://colab.research.google.com/github/stevengiacalone/Python-workshop/blob/main/Session_6_Numerical_Integration.ipynb\" target=\"_parent\"><img src=\"https://colab.research.google.com/assets/colab-badge.svg\" alt=\"Open In Colab\"/></a>"
      ]
    },
    {
      "cell_type": "markdown",
      "metadata": {
        "id": "PhUGSemyjt0r"
      },
      "source": [
        "# Numerical Integration"
      ]
    },
    {
      "cell_type": "markdown",
      "metadata": {
        "id": "doQpX9Qzjx0l"
      },
      "source": [
        "In today's session, we'll be discussing numerical integration. As the name implies, this is a technique that is used to solve for (definite) integrals *numerically* (as opposed to *analytically*). This technique is most useful in situations where the integral *cannot* be solved analytically. We'll explore some examples of these cases below. But first, let's go over the basics."
      ]
    },
    {
      "cell_type": "markdown",
      "metadata": {
        "id": "-7dDIao654KC"
      },
      "source": [
        "## The Euler Method"
      ]
    },
    {
      "cell_type": "markdown",
      "metadata": {
        "id": "Yaud8pinGsVP"
      },
      "source": [
        "The [Euler method](https://en.wikipedia.org/wiki/Euler_method) is a first-order procedure for solving ordinary differential equations with some initial value. It is the simplest method of numerical integration, first proposed by [Leonhard Euler](https://en.wikipedia.org/wiki/Leonhard_Euler) in the 1700s. Simply put, the method takes ODEs like this\n",
        "\n",
        "$$ \\frac{dy}{dx} = y^\\prime $$\n",
        "\n",
        "and posits that $y$ at any given step $n+1$ can be written as\n",
        "\n",
        "$$ y_{n+1} = y_n + h y^\\prime_n $$\n",
        "\n",
        "where $h$ is the step size.\n",
        "\n",
        "Let's try this out on the simple physics problem of throwing a ball. We will assume that the ball moves with some initial speed $\\dot{x} = 10$ cm/s in the $x$ direction and some initial speed $\\dot{y} = 10$ cm/s in the $y$ direction. We will assume a constant speed in the $x$ direction and an acceleration in the $y$ direction caused by gravity. With each iteration, we will solve the following three equations:\n",
        "\n",
        "$$ x_{n+1} = x_n + \\dot{x} \\, dt $$\n",
        "$$ y_{n+1} = y_n + \\dot{y} \\, dt $$\n",
        "$$ \\dot{y}_{n+1} = \\dot{y}_n + g \\, dt $$"
      ]
    },
    {
      "cell_type": "code",
      "execution_count": null,
      "metadata": {
        "id": "VtBI_nZVpUJj"
      },
      "outputs": [],
      "source": [
        "import numpy as np\n",
        "import matplotlib.pyplot as plt"
      ]
    },
    {
      "cell_type": "code",
      "execution_count": null,
      "metadata": {
        "id": "VcFk9aInjn-2"
      },
      "outputs": [],
      "source": [
        "# set initial conditions\n",
        "x = 0 # cm\n",
        "xdot = 10 # cm/s\n",
        "y = 0 # cm\n",
        "ydot = 10 # cm/s\n",
        "g = -98.1 # cm/s^2\n",
        "\n",
        "# set timestep and max number of steps\n",
        "dt = 0.001 # s\n",
        "N = 1000\n",
        "\n",
        "# record x and y position after each step\n",
        "x_pos = np.zeros(N)\n",
        "y_pos = np.zeros(N)\n",
        "\n",
        "t = 0\n",
        "for i in range(N-1):\n",
        "\n",
        "    # update x\n",
        "    x = x + xdot * dt\n",
        "    x_pos[i+1] = x\n",
        "\n",
        "    # update y\n",
        "    y = y + ydot * dt\n",
        "    y_pos[i+1] = y\n",
        "\n",
        "    # update v_y\n",
        "    ydot = ydot + g * dt\n",
        "\n",
        "    # update t (just for bookkeeping)\n",
        "    t += dt\n",
        "\n",
        "    if y <= 0:\n",
        "        print(\"Simulation complete after\", np.round(t, 3), \"seconds.\")\n",
        "        break\n",
        "\n",
        "# trim zeros from end of arrays\n",
        "x_pos = np.trim_zeros(x_pos, \"b\")\n",
        "y_pos = np.trim_zeros(y_pos, \"b\")"
      ]
    },
    {
      "cell_type": "markdown",
      "metadata": {
        "id": "S_avaSIgs5BY"
      },
      "source": [
        "Now let's plot the results along with the analytical solution. Solving for $x$ and $y$ the usual way gives us the following equations.\n",
        "\n",
        "$$ x(t) = ∫ v_x(0) dt = \\dot{x}(0)t$$\n",
        "\n",
        "$$ \\dot{y}(t) = \\dot{y}(0) + g t $$\n",
        "\n",
        "$$ y(t) = ∫ \\dot{y}(t) dt = \\dot{y}(0)t + g t^2 / 2$$"
      ]
    },
    {
      "cell_type": "code",
      "execution_count": null,
      "metadata": {
        "id": "40Ezw1AdpQ-g"
      },
      "outputs": [],
      "source": [
        "# plot the analytical solution\n",
        "t_an = np.linspace(0,0.205,10000)\n",
        "x_an = 10*t_an\n",
        "y_an = 10*t_an + g*t_an**2 / 2\n",
        "plt.plot(x_an, y_an, 'k-', lw=5, label=\"Analytical solution\")\n",
        "\n",
        "# overplot results of our numerical integration\n",
        "plt.scatter(x_pos, y_pos, c='red', s=1, zorder=2, label=\"Numerical solution\")\n",
        "\n",
        "plt.xlabel(\"x position\", fontsize=14)\n",
        "plt.ylabel(\"y position\", fontsize=14)\n",
        "plt.legend(loc=8, fontsize=14)\n",
        "plt.show()"
      ]
    },
    {
      "cell_type": "markdown",
      "metadata": {
        "id": "SUTjWvk2wrs1"
      },
      "source": [
        "The numerical solution is pretty close to the analytical solution! We can also animate the results of the simulation using matplotlib. See below for an example."
      ]
    },
    {
      "cell_type": "code",
      "execution_count": null,
      "metadata": {
        "id": "yzWFJaI8paon"
      },
      "outputs": [],
      "source": [
        "import matplotlib.animation as animation\n",
        "from matplotlib import rc\n",
        "rc('animation', html='jshtml')\n",
        "\n",
        "# Initialize the animation plot\n",
        "fig = plt.figure()\n",
        "ax = fig.add_subplot()\n",
        "\n",
        "def frame(i):\n",
        "    # clear previous version of plot\n",
        "    ax.clear()\n",
        "    # update ball location\n",
        "    plot = plt.scatter([x_pos[i]], [y_pos[i]], c='red', s=20)\n",
        "    # set the x and y limits and labels\n",
        "    ax.set_xlim(-0.1, 2.1)\n",
        "    ax.set_ylim(-0.05, 0.55)\n",
        "    ax.set_xlabel(\"x position\", fontsize=14)\n",
        "    ax.set_ylabel(\"y position\", fontsize=14)\n",
        "    return plot\n",
        "\n",
        "ani = animation.FuncAnimation(\n",
        "    fig,                 # figure to show\n",
        "    frame,               # function used to refresh plot\n",
        "    frames=len(x_pos),   # number of frames (should be equal to size of dataa array)\n",
        "    repeat=True,         # whether or not to loop animation\n",
        "    interval=10          # time between frames (in ms)\n",
        "                              )\n",
        "\n",
        "ani"
      ]
    },
    {
      "cell_type": "markdown",
      "metadata": {
        "id": "gCcfy6WaOjtT"
      },
      "source": [
        "But note that this method isn't perfect! Let's see what happens when we increase the timestep."
      ]
    },
    {
      "cell_type": "code",
      "execution_count": null,
      "metadata": {
        "id": "1zXRJViYyO7I"
      },
      "outputs": [],
      "source": [
        "# set initial conditions\n",
        "x = 0 # cm\n",
        "xdot = 10 # cm/s\n",
        "y = 0 # cm\n",
        "ydot = 10 # cm/s\n",
        "g = -98.1 # cm/s^2\n",
        "\n",
        "# set timestep and max number of steps\n",
        "dt = 0.01 # s\n",
        "N = 1000\n",
        "\n",
        "# record x and y position after each step\n",
        "x_pos = np.zeros(N)\n",
        "y_pos = np.zeros(N)\n",
        "\n",
        "t = 0\n",
        "for i in range(N-1):\n",
        "\n",
        "    # update x\n",
        "    x = x + xdot * dt\n",
        "    x_pos[i+1] = x\n",
        "\n",
        "    # update y\n",
        "    y = y + ydot * dt\n",
        "    y_pos[i+1] = y\n",
        "\n",
        "    # update v_y\n",
        "    ydot = ydot + g * dt\n",
        "\n",
        "    # update t (just for bookkeeping)\n",
        "    t += dt\n",
        "\n",
        "    if y <= 0:\n",
        "        print(\"Simulation complete after\", np.round(t, 3), \"seconds.\")\n",
        "        break\n",
        "\n",
        "# trim zeros from end of arrays\n",
        "x_pos = np.trim_zeros(x_pos, \"b\")\n",
        "y_pos = np.trim_zeros(y_pos, \"b\")\n",
        "\n",
        "# plot the analytical solution\n",
        "t_an = np.linspace(0,0.205,10000)\n",
        "x_an = 10*t_an\n",
        "y_an = 10*t_an + g*t_an**2 / 2\n",
        "plt.plot(x_an, y_an, 'k-', lw=5, label=\"Analytical solution\")\n",
        "\n",
        "# overplot results of our numerical integration\n",
        "plt.scatter(x_pos, y_pos, c='red', s=1, zorder=2, label=\"Numerical solution\")\n",
        "\n",
        "plt.xlabel(\"x position\", fontsize=14)\n",
        "plt.ylabel(\"y position\", fontsize=14)\n",
        "plt.legend(loc=8, fontsize=14)\n",
        "plt.show()"
      ]
    },
    {
      "cell_type": "markdown",
      "metadata": {
        "id": "42X0IbsdQepM"
      },
      "source": [
        "The accuracy of the numerical integration has decreased significantly! With Euler's method, the error of the calculation scales as $\\sqrt{h}$. We can achieve more accurate calculations with larger step sizes using more advanced methods."
      ]
    },
    {
      "cell_type": "markdown",
      "metadata": {
        "id": "qmWwHGU0SJ_L"
      },
      "source": [
        "## The Runge-Kutta Methods"
      ]
    },
    {
      "cell_type": "markdown",
      "metadata": {
        "id": "2TPQveyQYvVz"
      },
      "source": [
        "The Runge-Kutta (RK) methods are a family of numerical integration methods (which includes the Euther method described above). The most common RK method is known as fourth-order RK, or RK4. In RK4, the value of $y$ at $n+1$ is calculated with\n",
        "\n",
        "$$ y_{n+1} = y_n + \\frac{h}{6}(k_1 + 2 k_2 + 2 k_3 + k_4) $$\n",
        "\n",
        "where\n",
        "\n",
        "$$ k_1 = y^\\prime (x_n, y_n) $$\n",
        "$$ k_2 = y^\\prime (x_n + h/2, y_n + h k_1/2) $$\n",
        "$$ k_3 = y^\\prime (x_n + h/2, y_n + h k_2/2) $$\n",
        "$$ k_4 = y^\\prime (x_n + h, y_n + h k_3). $$\n",
        "\n",
        "Note that the $y$ and $x$ here are just generic variables that do not correspond to those in the simulation above. This definition assumes $dy/dx = y^\\prime (x, y)$.\n",
        "\n",
        "Each of the $k$ terms above represents the slope of $y$ evaluated at four different points. By taking the weighted average of these points, RK4 delivers a more accurate solution for a given step size than the Euler method. If you want to see a derivation, the [wikipedia page](https://en.wikipedia.org/wiki/Runge%E2%80%93Kutta_methods#The_Runge%E2%80%93Kutta_method) has a pretty good one.\n",
        "\n",
        "Let's try the code block above again, but with RK4 instead of the Euler method."
      ]
    },
    {
      "cell_type": "code",
      "execution_count": null,
      "metadata": {
        "colab": {
          "background_save": true
        },
        "id": "5qjuL22bOzfT"
      },
      "outputs": [],
      "source": [
        "# set initial conditions\n",
        "x = 0 # cm\n",
        "xdot = 10 # cm/s\n",
        "y = 0 # cm\n",
        "ydot = 10 # cm/s\n",
        "g = -98.1 # cm/s^2\n",
        "\n",
        "# set timestep and max number of steps\n",
        "dt = 0.01 # s\n",
        "N = 1000\n",
        "\n",
        "# record x and y position after each step\n",
        "x_pos = np.zeros(N)\n",
        "y_pos = np.zeros(N)\n",
        "\n",
        "# # define ODEs\n",
        "# def dydt(t, y):\n",
        "#     return\n",
        "\n",
        "t = 0\n",
        "for i in range(N-1):\n",
        "\n",
        "    # update x (we can just use the Euler method for x, since there is no acceleration term)\n",
        "    x = x + xdot * dt\n",
        "    x_pos[i+1] = x\n",
        "\n",
        "    # update y using RK4\n",
        "    k1 = ydot + g\n",
        "    k2 = ydot + g * (t + dt/2)\n",
        "    k3 = ydot + g * (t + dt/2)\n",
        "    k4 = ydot + g * (t + dt)\n",
        "    y = y + (dt/6)*(k1 + 2*k2 + 2*k3 + k4)\n",
        "    y_pos[i+1] = y\n",
        "\n",
        "    # update v_y (again we can use the Euler method, since this is just a linear equation)\n",
        "    ydot = ydot + g * dt\n",
        "\n",
        "    # update t (just for bookkeeping)\n",
        "    t += dt\n",
        "\n",
        "    if y <= 0:\n",
        "        print(\"Simulation complete after\", np.round(t, 3), \"seconds.\")\n",
        "        break\n",
        "\n",
        "# trim zeros from end of arrays\n",
        "x_pos = np.trim_zeros(x_pos, \"b\")\n",
        "y_pos = np.trim_zeros(y_pos, \"b\")\n",
        "\n",
        "# plot the analytical solution\n",
        "t_an = np.linspace(0,0.205,10000)\n",
        "x_an = 10*t_an\n",
        "y_an = 10*t_an + g*t_an**2 / 2\n",
        "plt.plot(x_an, y_an, 'k-', lw=5, label=\"Analytical solution\")\n",
        "\n",
        "# overplot results of our numerical integration\n",
        "plt.scatter(x_pos, y_pos, c='red', s=1, zorder=2, label=\"Numerical solution\")\n",
        "\n",
        "plt.xlabel(\"x position\", fontsize=14)\n",
        "plt.ylabel(\"y position\", fontsize=14)\n",
        "plt.legend(loc=8, fontsize=14)\n",
        "plt.show()"
      ]
    },
    {
      "cell_type": "markdown",
      "source": [
        "## Exercise: The Two-Body Problem"
      ],
      "metadata": {
        "id": "nW-EAWE_WPnn"
      }
    },
    {
      "cell_type": "markdown",
      "source": [
        "Let's now explore the problem of two gravitationally bound objects. In this case, we'll work with the Earth-Sun system. First, we'll write out the relevant equations. The acceleration of the Earth ($m_2$) due to the Sun ($m_1$) is given by\n",
        "\n",
        "$$ \\vec{a_2} = \\frac{G m_1}{r^2} \\widehat{r} $$\n",
        "\n",
        "and the acceleration of the Sun due to the Earth is given by\n",
        "\n",
        "$$ \\vec{a_1} = \\frac{G m_2}{r^2} \\widehat{r} .$$\n",
        "\n",
        "Breaking these down into their vector components, the accelerations in the $x$ and $y$ directions are\n",
        "\n",
        "$$ \\ddot{x_1} = \\frac{G m_2}{r^3} (x_2 - x_1) $$\n",
        "\n",
        "$$ \\ddot{y_1} = \\frac{G m_2}{r^3} (y_2 - y_1) $$\n",
        "\n",
        "$$ \\ddot{x_2} = \\frac{G m_1}{r^3} (x_1 - x_2) $$\n",
        "\n",
        "$$ \\ddot{y_2} = \\frac{G m_1}{r^3} (y_1 - y_2) $$\n",
        "\n",
        "where $r^2 = (x_2 - x_1)^2 + (y_2 - y_1)^2$. We'll just work in 2D and use the Euler method for now, to keep things simple. In the cell below, we'll integrate these equations to simulate the orbits of the system."
      ],
      "metadata": {
        "id": "raAJR3jnh22D"
      }
    },
    {
      "cell_type": "code",
      "execution_count": null,
      "metadata": {
        "id": "da8SjiGjvwNY"
      },
      "outputs": [],
      "source": [
        "# define constants\n",
        "G = 6.67e-8 # dyne cm^2 g^-2\n",
        "AU = 1.5e13 # cm\n",
        "m1 = 2e33 # g\n",
        "m2 = 6e27 # g\n",
        "\n",
        "# define initial state\n",
        "x1 = 0     # cm\n",
        "y1 = 0     # cm\n",
        "x2 = 1*AU  # cm\n",
        "y2 = 0     # cm\n",
        "\n",
        "vx1 = 0   # cm/s\n",
        "vy1 = -9  # cm/s\n",
        "vx2 = 0   # cm/s\n",
        "vy2 = 3e6 # cm/s\n",
        "\n",
        "# define timestep and total number of steps\n",
        "dt = 864 # 0.01 day in s\n",
        "N = 100000\n",
        "\n",
        "# define position arrays\n",
        "x1_pos = np.zeros(N)\n",
        "y1_pos = np.zeros(N)\n",
        "x2_pos = np.zeros(N)\n",
        "y2_pos = np.zeros(N)\n",
        "\n",
        "x2_pos[0] = x2\n",
        "\n",
        "for i in range(N-1):\n",
        "\n",
        "    # calculate intantaneous accelerations\n",
        "\n",
        "    # update positions x1, y1, x2, y2 and save to arrays\n",
        "\n",
        "    # update speeds vx1, vy1, vx2, vy2"
      ]
    },
    {
      "cell_type": "code",
      "source": [
        "plt.figure(figsize=(5,5))\n",
        "plt.plot(x1_pos/AU, y1_pos/AU, label=\"Sun's orbit\")\n",
        "plt.plot(x2_pos/AU, y2_pos/AU, label=\"Earth's orbit\")\n",
        "plt.xlabel(\"x position (AU)\", fontsize=14)\n",
        "plt.ylabel(\"y position (AU)\", fontsize=14)\n",
        "plt.legend(loc=(0.33,0.7))\n",
        "plt.show()"
      ],
      "metadata": {
        "id": "Qu2tPnbiXlch"
      },
      "execution_count": null,
      "outputs": []
    },
    {
      "cell_type": "markdown",
      "source": [
        "The orbit of the Sun about the center of mass is that little dot in the center! Goes to show how much more massive the Sun is than the Earth."
      ],
      "metadata": {
        "id": "sD_Wi8a6kHj0"
      }
    },
    {
      "cell_type": "markdown",
      "source": [
        "## Exercise: The Three-Body Problem"
      ],
      "metadata": {
        "id": "j6MMgywrkkb2"
      }
    },
    {
      "cell_type": "markdown",
      "source": [
        "The problem we solved above actually has an analytical solution (as was shown by Netwon). Let's not solve a problem that *doesn't* have an analytical solution and therefore must be solved numerically. The three-body problem has the same basic setup as before, but this time we add a third object. Now, our vectorized acceleration equations are as follow:\n",
        "\n",
        "$$ \\ddot{x_1} = \\frac{G m_2}{r_{21}^3} (x_2 - x_1) + \\frac{G m_3}{r_{31}^3} (x_3 - x_1) $$\n",
        "\n",
        "$$ \\ddot{y_1} = \\frac{G m_2}{r_{21}^3} (y_2 - y_1) + \\frac{G m_3}{r_{31}^3} (y_3 - y_1) $$\n",
        "\n",
        "$$ \\ddot{x_2} = \\frac{G m_1}{r_{12}^3} (x_1 - x_2) + \\frac{G m_3}{r_{32}^3} (x_3 - x_2) $$\n",
        "\n",
        "$$ \\ddot{y_2} = \\frac{G m_1}{r_{12}^3} (y_1 - y_2) + \\frac{G m_1}{r_{32}^3} (y_3 - y_2)$$\n",
        "\n",
        "$$ \\ddot{x_3} = \\frac{G m_1}{r_{13}^3} (x_1 - x_3) + \\frac{G m_3}{r_{23}^3} (x_2 - x_3) $$\n",
        "\n",
        "$$ \\ddot{y_3} = \\frac{G m_1}{r_{13}^3} (y_1 - y_3) + \\frac{G m_1}{r_{23}^3} (y_2 - y_3)$$\n",
        "\n",
        "where $r_{12} = r_{21}$, $r_{32} = r_{23}$, and $r_{13} = r_{31}$.\n",
        "\n",
        "We'll initialize our simulation with three Sun-like stars and some arbitrary orbital positions/speeds."
      ],
      "metadata": {
        "id": "2mEiTk3Zkpei"
      }
    },
    {
      "cell_type": "code",
      "source": [
        "# define constants\n",
        "G = 6.67e-8 # dyne cm^2 g^-2\n",
        "AU = 1.5e13 # cm\n",
        "m1 = m2 = m3 = 2e33 # g\n",
        "\n",
        "# define initial state\n",
        "x1 = 0     # cm\n",
        "y1 = 0     # cm\n",
        "x2 = 1*AU  # cm\n",
        "y2 = 0     # cm\n",
        "x3 = 0     # cm\n",
        "y3 = -1*AU     # cm\n",
        "\n",
        "vx1 = 0     # cm/s\n",
        "vy1 = -1e3  # cm/s\n",
        "vx2 = 0     # cm/s\n",
        "vy2 = 3e2   # cm/s\n",
        "vx3 = 2e2   # cm/s\n",
        "vy3 = 0   # cm/s\n",
        "\n",
        "# define timestep and total number of steps\n",
        "dt = 864 # 0.01 day in s\n",
        "N = 100000\n",
        "\n",
        "# define position arrays\n",
        "x1_pos = np.zeros(N)\n",
        "y1_pos = np.zeros(N)\n",
        "x2_pos = np.zeros(N)\n",
        "y2_pos = np.zeros(N)\n",
        "x3_pos = np.zeros(N)\n",
        "y3_pos = np.zeros(N)\n",
        "\n",
        "x2_pos[0] = x2\n",
        "y3_pos[0] = y3\n",
        "\n",
        "for i in range(N-1):\n",
        "\n",
        "    # calculate intantaneous accelerations\n",
        "\n",
        "    # update positions x1, y1, x2, y2 and save to arrays\n",
        "\n",
        "    # update speeds vx1, vy1, vx2, vy2"
      ],
      "metadata": {
        "id": "jSaLB5eGjmYB"
      },
      "execution_count": null,
      "outputs": []
    },
    {
      "cell_type": "code",
      "source": [
        "plt.figure(figsize=(5,5))\n",
        "plt.plot(x1_pos/AU, y1_pos/AU, c=\"k\")\n",
        "plt.plot(x2_pos/AU, y2_pos/AU, c=\"r\")\n",
        "plt.plot(x3_pos/AU, y3_pos/AU, c=\"b\")\n",
        "plt.xlabel(\"x position (AU)\", fontsize=14)\n",
        "plt.ylabel(\"y position (AU)\", fontsize=14)\n",
        "# plt.xlim([-10,10])\n",
        "# plt.ylim([-10,10])\n",
        "plt.show()"
      ],
      "metadata": {
        "id": "AIfNFHIjrObB"
      },
      "execution_count": null,
      "outputs": []
    },
    {
      "cell_type": "code",
      "source": [],
      "metadata": {
        "id": "w2RT88n_raqQ"
      },
      "execution_count": null,
      "outputs": []
    }
  ],
  "metadata": {
    "colab": {
      "provenance": [],
      "authorship_tag": "ABX9TyNBPtnSFXkD2UC8mtk77NWb",
      "include_colab_link": true
    },
    "kernelspec": {
      "display_name": "Python 3",
      "name": "python3"
    },
    "language_info": {
      "name": "python"
    }
  },
  "nbformat": 4,
  "nbformat_minor": 0
}